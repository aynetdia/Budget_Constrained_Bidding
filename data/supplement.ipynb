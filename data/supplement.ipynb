{
 "cells": [
  {
   "cell_type": "markdown",
   "id": "blocked-repair",
   "metadata": {},
   "source": [
    "Inserting the pCTR into train and test set"
   ]
  },
  {
   "cell_type": "code",
   "execution_count": null,
   "id": "coupled-donna",
   "metadata": {},
   "outputs": [],
   "source": [
    "#train set\n",
    "bid_requests = pd.read_csv('ipinyou/1458/train.log.txt', sep=\"\\t\")\n",
    "ctr = pd.read_csv('ipinyou/1458/ctr_pred_train.txt', sep=\"\\t\")\n",
    "bid_requests.insert(1, \"pCTR\", ctr.iloc[:,1])\n",
    "bid_requests.to_csv('ipinyou/1458/train.log.txt', sep=\"\\t\", header=True, index=False)"
   ]
  },
  {
   "cell_type": "code",
   "execution_count": null,
   "id": "national-storage",
   "metadata": {},
   "outputs": [],
   "source": [
    "#test set\n",
    "bid_requests = pd.read_csv('ipinyou/1458/test.log.txt', sep=\"\\t\")\n",
    "ctr = pd.read_csv('ipinyou/1458/ctr_pred_test.txt', sep=\"\\t\")\n",
    "bid_requests.insert(1, \"pCTR\", ctr.iloc[:,1])\n",
    "bid_requests.to_csv('ipinyou/1458/test.log.txt', sep=\"\\t\", header=True, index=False)"
   ]
  },
  {
   "cell_type": "markdown",
   "id": "deluxe-chassis",
   "metadata": {},
   "source": [
    "Training the Logistic Regression for CTR prediction only on the \"Usertag\" feature (for the LinBid)"
   ]
  },
  {
   "cell_type": "code",
   "execution_count": 1,
   "id": "miniature-granny",
   "metadata": {},
   "outputs": [],
   "source": [
    "import pandas as pd\n",
    "# Load datasets\n",
    "train_usertags = pd.read_csv('ipinyou/1458/train.log.txt', sep=\"\\t\", usecols = [\"usertag\", \"click\"]) \n",
    "test_usertags = pd.read_csv('ipinyou/1458/test.log.txt', sep=\"\\t\", usecols = [\"usertag\", \"click\"]) "
   ]
  },
  {
   "cell_type": "code",
   "execution_count": 2,
   "id": "primary-interim",
   "metadata": {},
   "outputs": [],
   "source": [
    "train_tag_dummies = pd.get_dummies(train_usertags.usertag.fillna(\"0,\").str.split(\",\").apply(pd.Series).stack()).sum(level=0).iloc[:,1:]\n",
    "test_tag_dummies = pd.get_dummies(test_usertags.usertag.fillna(\"0,\").str.split(\",\").apply(pd.Series).stack()).sum(level=0).iloc[:,1:]"
   ]
  },
  {
   "cell_type": "code",
   "execution_count": 16,
   "id": "premier-moderator",
   "metadata": {},
   "outputs": [],
   "source": [
    "import numpy as np\n",
    "intersect_cols = np.intersect1d(train_tag_dummies.columns.values, test_tag_dummies.columns.values)"
   ]
  },
  {
   "cell_type": "code",
   "execution_count": 24,
   "id": "proprietary-gathering",
   "metadata": {},
   "outputs": [],
   "source": [
    "from sklearn.linear_model import LogisticRegression\n",
    "logreg = LogisticRegression(class_weight='balanced', max_iter=1000)"
   ]
  },
  {
   "cell_type": "code",
   "execution_count": 25,
   "id": "multiple-chicken",
   "metadata": {},
   "outputs": [
    {
     "data": {
      "text/plain": [
       "LogisticRegression(class_weight='balanced', max_iter=1000)"
      ]
     },
     "execution_count": 25,
     "metadata": {},
     "output_type": "execute_result"
    }
   ],
   "source": [
    "logreg.fit(train_tag_dummies[intersect_cols], train_usertags.click)"
   ]
  },
  {
   "cell_type": "code",
   "execution_count": 28,
   "id": "planned-sullivan",
   "metadata": {},
   "outputs": [],
   "source": [
    "ctr_segment_pred = logreg.predict_proba(test_tag_dummies[intersect_cols])\n",
    "ctr_set_pred_train = logreg.predict_proba(train_tag_dummies[intersect_cols])"
   ]
  },
  {
   "cell_type": "code",
   "execution_count": 42,
   "id": "previous-dividend",
   "metadata": {},
   "outputs": [],
   "source": [
    "pd.DataFrame(ctr_segment_pred).to_csv('test_ctr_seg_pred.tsv', sep = '\\t')\n",
    "ctr_seg_test = pd.read_csv('test_ctr_seg_pred.tsv', sep = '\\t', usecols = ['1'])\n",
    "ctr_seg_test.to_csv('ctr_seg_test.tsv', sep = '\\t', index = False)"
   ]
  },
  {
   "cell_type": "code",
   "execution_count": 63,
   "id": "apparent-insertion",
   "metadata": {},
   "outputs": [
    {
     "name": "stdout",
     "output_type": "stream",
     "text": [
      "pCTR AUC in the test set:  0.9787214015774867\n"
     ]
    }
   ],
   "source": [
    "from sklearn.metrics import roc_auc_score\n",
    "print(\"pCTR AUC in the test set: \", roc_auc_score(test_usertags['click'], test['1']))"
   ]
  }
 ],
 "metadata": {
  "kernelspec": {
   "display_name": "Python 3",
   "language": "python",
   "name": "python3"
  },
  "language_info": {
   "codemirror_mode": {
    "name": "ipython",
    "version": 3
   },
   "file_extension": ".py",
   "mimetype": "text/x-python",
   "name": "python",
   "nbconvert_exporter": "python",
   "pygments_lexer": "ipython3",
   "version": "3.8.5"
  }
 },
 "nbformat": 4,
 "nbformat_minor": 5
}
