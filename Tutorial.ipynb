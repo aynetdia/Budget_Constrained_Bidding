{
 "cells": [
  {
   "cell_type": "markdown",
   "metadata": {},
   "source": [
    "[![Open In Colab](https://colab.research.google.com/assets/colab-badge.svg)](https://colab.research.google.com/github/aynetdia/Budget_Constrained_Bidding/blob/master/Tutorial.ipynb) "
   ]
  },
  {
   "cell_type": "markdown",
   "metadata": {},
   "source": [
    "# Setting up the notebook in Colab"
   ]
  },
  {
   "cell_type": "code",
   "execution_count": null,
   "metadata": {},
   "outputs": [],
   "source": [
    "# Mount on GDrive\n",
    "from google.colab import drive\n",
    "drive.mount('/content/drive')"
   ]
  },
  {
   "cell_type": "code",
   "execution_count": null,
   "metadata": {},
   "outputs": [],
   "source": [
    "# Cloning the repo (only when setting up for the first time)\n",
    "%cd drive/MyDrive\n",
    "!git clone https://github.com/aynetdia/budget_constrained_bidding.git"
   ]
  },
  {
   "cell_type": "markdown",
   "metadata": {},
   "source": [
    "Here's a link to the dataset: https://drive.google.com/drive/folders/1YYyxGMDW0EuZA2BI-uR_2j60lpngKgy8?usp=sharing\n",
    "\n",
    "In order to set up the dataset, you either have to download the linked folder containing the dataset and put it into `/budget_constrained_biddig/data/ipinyou/`, in case you choose to run the notebook locally, or add a GDrive shortcut (go to: Shared with me -> Right click on the dataset folder -> Add shortcut to Drive) and select the  same `/budget_constrained_biddig/data/ipinyou/` as a location to place the shortcut in, if you want to run the notebook in Colab."
   ]
  },
  {
   "cell_type": "code",
   "execution_count": null,
   "metadata": {},
   "outputs": [],
   "source": [
    "# Go into the project folder and pull the last changes (do that every time before running the notebook)\n",
    "# If executing after cloning the repo: %cd budget_constrained_bidding\n",
    "%cd /content/drive/MyDrive/budget_constrained_bidding\n",
    "!git pull"
   ]
  },
  {
   "cell_type": "markdown",
   "metadata": {},
   "source": [
    "# Table of Contents\n",
    "\n",
    "&emsp;&emsp;1. Introduction into the application domain\n",
    "\n",
    "&emsp;&emsp;2. Methods\n",
    "\n",
    "&emsp;&emsp;3. DRLB Framework\n",
    "\n",
    "&emsp;&emsp;4. Description of the Data Set\n",
    "\n",
    "&emsp;&emsp;5. Implementation\n",
    "\n",
    "&emsp;&emsp;6. Results \n",
    "\n",
    "&emsp;&emsp;7. References"
   ]
  },
  {
   "cell_type": "markdown",
   "metadata": {},
   "source": [
    "# 1. Introduction"
   ]
  },
  {
   "cell_type": "markdown",
   "metadata": {},
   "source": [
    "&emsp;Allocating budget efficiently is a problem that has received a lot of attention in marketing literature.\n",
    "Budget constrained bidding, as an automated bidding strategy and a common scenario in Real-Time Bidding (RTB), is an important concept in online display advertising. In the context of online marketing strategies, budget constrained bidding serves as an important mechanism in which a typical optimization goal for advertisers is to maximize the total value of winning impressions under a certain budget constraint. A winning impression value is usually associated with the expected outcome of an advertisement, e.g. a click or conversion as user feedback. In RTB advertisers give a bid for every individual impression of their advertisements instead of settling for a predefined fixed bid for each campaign. RTB enables advertisers to spend campaigns budget on high-quality ad impressions in order to obtain that positive user feedback. Thus, one challenge is to capture those valuable ad impressions in real-time, which can be solved by an appropriate bidding strategy.\n",
    "    \n",
    "\n",
    "\n"
   ]
  },
  {
   "cell_type": "markdown",
   "metadata": {},
   "source": [
    "### Budget Constrained Bidding\n",
    "\n",
    "&emsp;A bidding strategy is based on the evaluation of impressions on an ad campaign, e.g. by the predicted click-through rate (CTR) or calculated bid price for each impression. A campaign runs during a certain time period that captures $N$ impression opportunities in sequential order $i$. Considering the competition with other bidders in real-time and the impression value $v{_i}$, an advertiser gives a bid $b{_i}$ and only wins the auction if $b{_i}$ is the highest bid [Wu D., et al., 2018]. In this case the advertiser gets the opportunity to display the ad and to gain winning impressions which then induces costs $c{_i}$.\n",
    "However, budget constrained bidding is a knapsack problem [Zhou Y., et al., 2008]. An optimal bid in RTB with budget constraint B takes the from of $ b{_i} = v / λ $ , where $v$ denotes the impression value and $λ$ a scaling parameter mapping v to a scale of bid. If $λ$ increases, then the bid price decreases. Hence, high constrained budget should cause the general bidding price level to be lower [Zhang W., et al., 2014].\n",
    "Bidding strategies usually consider the bid decision by treating each ad impression independently, ignoring the impacts of the overall effectiveness of the campaign and the dynamics of the RTB environment. Therefore, developing an optimal bidding strategy is complex to derive but yet highly important since in RTB only the advertiser with the highest bid wins the auction. Reinforcement Learning (RL) is a solution for the above problem.  \n",
    "\n",
    "\n",
    "&emsp;This tutorial presents a solution for the budget constrained bidding problem, which leverages model-free reinforcement learning. In this model-free reinforcement learning, state spaces are the impressions feature parameter as well as the auction information and the action is to set a bidding price. The tutorial is based on the findings of Wu D., et al. [2018] presented in „Budget Constrained Bidding by Model-free Reinforcement Learning in Display Advertising“.\n",
    "In this tutorial, we first introduce basic concepts of Reinforcement Learning, Constrained Markov Decision Process and Deep Q-Networks. In the next section we explain the Deep Reinforcement Learning to Bid framework, followed by a brief description of the dataset and an explanation on the implementation of the algorithms. Lastly, we discuss the results. \n",
    " "
   ]
  },
  {
   "cell_type": "markdown",
   "metadata": {},
   "source": [
    "# 2. Methods"
   ]
  },
  {
   "cell_type": "markdown",
   "metadata": {},
   "source": [
    "\n",
    "## 2.1 Introduction to Reinforcement Learning and methods comparison\n",
    "\n",
    "### Reinforcement Learning  \n",
    "&emsp;Reinforcement Learning (RL) is a tool to support sequential decision-making events and is a highly active research field of machine learning. It finds enormous application in e.g. real-time-bidding in advertisement auction.\n",
    "\n",
    "&emsp;RL is a core control problem in which an agent sequentially interacts with an unknown environment to maximize its cumulative reward [Richard S. and Andrew G., 2018]. It is a simulation of the human learning process in dynamic environments without any supervision. To find the best strategy of reward maximization, the agent continuously interacts with the environment and finds the optimal action under different states. Roughly speaking, the agent’s goal is to get as much reward as possible over the long run.\n",
    "\n",
    "&emsp;For instance, board game playing is a classical dynamic decision-making process. Players need to interact with their counterparts. It is a procedure filled with immediate rewards, intuitive judgments, and each action will generate an impact in the end. The cumulative reward will decide its win-or-failure [Richard S. and Andrew G., 2018].\n",
    "\n",
    "&emsp;In reality, such scenarios will consist of several problems that can be solved by a class of solution methods, but not all of them can achieve the rewards maximization objective. In the learning process of RL, each action the agent made, will generate some impact not only on the immediate reward but also on the future states. In other words, RL faces a dynamic decision-making problem, the agent will obtain continuous rewards and punishments in this learning process and modify its behaviors according to the environment's feedbacks and finally to maximize the cumulative reward.\n",
    "\n",
    "&emsp;In order to make the process more clear, we explain some basic concept of RL as follows:\n",
    "\n",
    "&emsp;&emsp;Policy: the whole actions the learning agent has taken in a concrete period \n",
    "\n",
    "&emsp;&emsp;Agent: the one who takes the action\n",
    "\n",
    "&emsp;&emsp;Environment: the place where the agent takes action and interacts with him\n",
    "\n",
    "&emsp;&emsp;Action: the move the agent makes to interact with the environment\n",
    "\n",
    "&emsp;&emsp;State: a situation in which the agent perceives \n",
    "\n",
    "&emsp;&emsp;Reward: feedback of the agent’s action \t\n",
    "\n",
    "&emsp;The image illustrates the whole process of RL.\n",
    "\n",
    "![Image 1: Reinforcement Learning Process](https://drive.google.com/uc?export=view&id=1y_z3Xg_QCsK9kkfV3tWhtqJNDmW4PrAJ)\n",
    "\n",
    "\t\n",
    "\n",
    "\n",
    "### Methods comparison\t\n",
    "&emsp;Besides RL, supervised learning and unsupervised learning are the most classic machine learning methods. In this section, we explain why RL is the best choice for solving dynamic decision-making problems. Thus, the core differences among these three methods are shown in table below.\n",
    "\n",
    "\n",
    "![Table 1: Machine Learning Methods Comparison](https://drive.google.com/uc?export=view&id=1Af_FgYtCeLyFwuKVm5UV9JrZpQhK1D2w)\n",
    "\n",
    "\n",
    "&emsp;Supervised learning is mainly used to solve regression and classification problems. It explores the relation among labeled, the target variable, and other input variables and produces a model to predict further category identification.\n",
    "\n",
    "&emsp;In comparison, unsupervised learning obtains unlabeled observations and searches the hidden structure behind the input data. Both of these methods are not suitable for the desired behavior optimization problem in a dynamic process. Unlike supervised and unsupervised learning, which will not consider the capacity or some constrained environments, reinforcement learning will start with a clear initial setting, goal, and interactive agent. All the sequential action the agent takes will generate some influence in this environment. After a dynamic model training process, the agent obtains more and more rewards as desired by taking optimal actions in order to maximize the cumulative reward. \n",
    "\n",
    "&emsp;Reinforcement Learning models problems into a Markov Decision Process and matching the output to the problem. In theory, when we can map our problems into an MDP, we can expect that reinforcement learning can be a useful tool to solve such problems. In the next section, we will explain how it works with Markov Decision Process and give more details about Deep Q-Learning, which is a core concept in our project.\n",
    "\n",
    "\n"
   ]
  },
  {
   "cell_type": "markdown",
   "metadata": {},
   "source": [
    "# 2.2 (Constrained) Markov Decision Process  \n",
    "  \n",
    "### Markov Decision Process \n",
    "&emsp;RL is usually modeled as a Markov Decision Process (MDP). MDP determines how good the agents particular state $s$ is. This is defined by a policy $\\pi: S —> P(A)$, i.e. what actions $A$ the agent performs in a particular state $s$ [Singh A., 2019]. The policy is a function that defines the probability distribution over actions $(a∈A)$ for each state $(s∈S)$ which fully determines the behavior of an agent. The agent uses the policy to interact with the environment by sequentially taking actions and to alter its behavior in order to maximize the cumulative reward $R$ (all the rewards that the agent receives from the environment) [Wu D., et al., 2018]. In MDP the state transition $T(s, a, s’)$ produces the probability $Pr(s’ | s, a)$ to transition into state $s’$ given that the agent was in state $s$ and took action $a$. The immediate reward function, which is the reward $r$ an agent receives from the current state, shows the agents immediate reward from the environment. It will make the agent converge to suboptimal solutions, since the agent greeds to take actions to decrease $λ$ in order to gain more immediate reward each time [Wu D., et al., 2018]. If an agent follows a policy $\\pi$  at time $t$  then $\\pi(a | s)$ is the probability of that agent taking action $a$ at a particular time step $t$ [Singh A., 2019].\n",
    "The goal of the agent is to learn the optimal policy $\\pi$  which maximizes the long-term expected reward form the start state [Wu D., et al., 2018]: $\\pi^* = arg max_{\\pi}  E [R | \\pi]$ , where $R = \\sum^T_{t=1} \\gamma^{t-1} r_t $ denotes the cumulative discounted reward.\n",
    "\n",
    "\n",
    "\n"
   ]
  },
  {
   "cell_type": "markdown",
   "metadata": {},
   "source": [
    "### Bellman Equation for value function\n",
    "\n",
    "&emsp;The Bellman Equation helps to determine optimal policies and optimal value functions, where value functions differ according to the different policies.\n",
    "The value function expresses the relationship between the value of a state $s$ and the values of its successor states $s’$ . The value of a state under an optimal policy must equal the expected reward for the best action from that state. It is decomposed into the Immediate Reward, $R[t+1]$ , and the discounted value of successor states [Singh A., 2019]:\n",
    "$v(s)=E[R_{t+1}+\\gamma+v(S_{t+1}) | S{_t} = s]$ .\n",
    "\n",
    "  \n"
   ]
  },
  {
   "cell_type": "markdown",
   "metadata": {},
   "source": [
    "### Constrained Markov Decision Process\n",
    "\n",
    "&emsp;Constrained Markov Decision Process (CMDP) extends the concept of MDP by adding additional cost constraints, i.e. the total budget [Wu D., et al., 2018 ; Altman E., 1999]: In CMDP the action of the agent is to submit bids to sequential impression opportunities. In an episodic CMDP the agent regulates $λ$ with a fixed time step T until the episode ends. The agent observes states and takes action to adjust $λ_{t-1}$ to $λ_{t}$ during each time step $t$. However, the agent will still converge to the suboptimal solution due to the immediate reward function.\n",
    "Considering the dynamic and unpredictable RTB environment, makes it hard to obtain the transition dynamic. This is due to the fact that CMDP is usually a model-based RL approach, where the state transition dynamics $T$ needs to be known in advance. Therefore, our focal paper proposes to use deep Q-Networks (DQN) which is a model-free RL approach."
   ]
  },
  {
   "cell_type": "markdown",
   "metadata": {},
   "source": [
    "## 2.3 Deep Q-Networks\n",
    "\n",
    "\n",
    "&emsp;DQN is employed to model budget constrained bidding. It is a popular method of Q-learning in RL [Kim S. et al., 2019, Stekolshchik R., 2020]. \n",
    "\n",
    "&emsp;DQN uses deep neural networks to approximate the Q-function (action-value function) and samples random minibatches of transition from experience replay buffer as training data to reduce correlations. Furthermore, the DQN consists of a target network. The target network is a technique to stabilize learning by delaying the update of target values. It is a copy of local network which is held as a constant in order to stable the target for learning for a fixed number of time steps. \n",
    "\n",
    "&emsp;In DQN the parameter $\\epsilon$ of the $\\epsilon$-greedy mechanism controls the proportion of exploration and exploitation, where $\\epsilon$ is bounded at 0 < $\\epsilon$ < 1. The exploitation describes that the agent finds his following action by maximizing the Q-value over all possible actions for the given state. \n",
    "DQN iteratively learns Q-function $Q(s_{t}, a_{t})$ corresponding to the optimal policy. It quantifies the quality of taking action $a_{t}$ at state $s_{t}$ [Wu D., et al., 2018]. The agent uses deep neural networks to determine its actions and to train the neural network in such a way that it predicts the weighted, cumulative rewards of all actions. In DQN the agent learns the optimal policy by interacting directly with the workflow environment and also with the policies of other agents."
   ]
  },
  {
   "cell_type": "markdown",
   "metadata": {
    "pycharm": {
     "name": "#%% md\n"
    }
   },
   "source": [
    "# 3. DRLB framework"
   ]
  },
  {
   "cell_type": "markdown",
   "metadata": {
    "pycharm": {
     "name": "#%% md\n"
    }
   },
   "source": []
  },
  {
   "cell_type": "markdown",
   "metadata": {
    "pycharm": {
     "name": "#%% md\n"
    }
   },
   "source": [
    "# 4. Description of the Data Set"
   ]
  },
  {
   "cell_type": "markdown",
   "metadata": {
    "pycharm": {
     "name": "#%% md\n"
    }
   },
   "source": []
  },
  {
   "cell_type": "markdown",
   "metadata": {
    "pycharm": {
     "name": "#%% md\n"
    }
   },
   "source": [
    "# 5. Implementation"
   ]
  },
  {
   "cell_type": "code",
   "execution_count": null,
   "metadata": {},
   "outputs": [],
   "source": [
    "#you should find yourself inside the project folder after you've pulled the latest changes\n",
    "!ls"
   ]
  },
  {
   "cell_type": "code",
   "execution_count": null,
   "metadata": {},
   "outputs": [],
   "source": [
    "# import the dataset\n",
    "import pandas as pd\n",
    "import numpy as np\n",
    "import os\n",
    "#if you runnning this notebook locally, uncomment next line\n",
    "#bid_requests=pd.read_csv(os.getcwd() + r'\\data\\ipinyou\\1458\\train.log.txt', sep=\"\\t\")\n",
    "bid_requests = pd.read_csv('data/ipinyou/1458/train.log.txt', sep=\"\\t\")"
   ]
  },
  {
   "cell_type": "code",
   "execution_count": 15,
   "metadata": {
    "pycharm": {
     "name": "#%%\n"
    },
    "scrolled": true
   },
   "outputs": [],
   "source": [
    "# add the necessary data intervals\n",
    "\n",
    "def get_time_interval(data):\n",
    "    time_inv=int(data[10:12])\n",
    "    if time_inv>=0 and time_inv<15:\n",
    "            return (\"00\")\n",
    "    elif time_inv >= 15 and time_inv < 30:\n",
    "            return (\"15\")\n",
    "    elif time_inv >= 30 and time_inv < 45:\n",
    "            return (\"30\")\n",
    "    elif time_inv >= 45 and time_inv <=60:\n",
    "            return (\"45\")\n",
    "    else:\n",
    "            return(None)\n",
    "\n"
   ]
  },
  {
   "cell_type": "code",
   "execution_count": 16,
   "metadata": {},
   "outputs": [
    {
     "name": "stdout",
     "output_type": "stream",
     "text": [
      "min already exists\n"
     ]
    }
   ],
   "source": [
    "if 'min' in bid_requests.columns:\n",
    "    print(\"min already exists\")\n",
    "    pass\n",
    "else:\n",
    "    bid_requests[\"timestamp\"]=bid_requests[\"timestamp\"].apply(str)\n",
    "    min_intervals = bid_requests.apply(lambda row : get_time_interval(row['timestamp']), axis = 1)\n",
    "    bid_requests.insert(3, \"min\", min_intervals) # insert the new column after the 'hour' column\n",
    "    # save the updated dataset. do not run again!\n",
    "    bid_requests.to_csv('data/ipinyou/1458/train.log.txt', sep=\"\\t\", header=True, index=False)"
   ]
  },
  {
   "cell_type": "code",
   "execution_count": 17,
   "metadata": {
    "pycharm": {
     "name": "#%%\n"
    }
   },
   "outputs": [
    {
     "ename": "ModuleNotFoundError",
     "evalue": "No module named 'lru'",
     "output_type": "error",
     "traceback": [
      "\u001b[1;31m---------------------------------------------------------------------------\u001b[0m",
      "\u001b[1;31mModuleNotFoundError\u001b[0m                       Traceback (most recent call last)",
      "\u001b[1;32m<ipython-input-17-66d0fe90c009>\u001b[0m in \u001b[0;36m<module>\u001b[1;34m\u001b[0m\n\u001b[0;32m      8\u001b[0m \u001b[1;32mimport\u001b[0m \u001b[0mcloudpickle\u001b[0m\u001b[1;33m\u001b[0m\u001b[1;33m\u001b[0m\u001b[0m\n\u001b[0;32m      9\u001b[0m \u001b[0msys\u001b[0m\u001b[1;33m.\u001b[0m\u001b[0mpath\u001b[0m\u001b[1;33m.\u001b[0m\u001b[0minsert\u001b[0m\u001b[1;33m(\u001b[0m\u001b[1;36m0\u001b[0m\u001b[1;33m,\u001b[0m \u001b[1;34m'src/rtb_agent'\u001b[0m\u001b[1;33m)\u001b[0m\u001b[1;33m\u001b[0m\u001b[1;33m\u001b[0m\u001b[0m\n\u001b[1;32m---> 10\u001b[1;33m \u001b[1;32mfrom\u001b[0m \u001b[0mrl_bid_agent\u001b[0m \u001b[1;32mimport\u001b[0m \u001b[0mRlBidAgent\u001b[0m\u001b[1;33m\u001b[0m\u001b[1;33m\u001b[0m\u001b[0m\n\u001b[0m\u001b[0;32m     11\u001b[0m \u001b[1;32mimport\u001b[0m \u001b[0mgym\u001b[0m\u001b[1;33m,\u001b[0m \u001b[0mgym_auction_emulator\u001b[0m\u001b[1;33m\u001b[0m\u001b[1;33m\u001b[0m\u001b[0m\n\u001b[0;32m     12\u001b[0m \u001b[1;33m\u001b[0m\u001b[0m\n",
      "\u001b[1;32mD:\\lecture sources\\Win2021\\information system\\IS_Work_git\\budget_constrained_bidding\\src\\rtb_agent\\rl_bid_agent.py\u001b[0m in \u001b[0;36m<module>\u001b[1;34m\u001b[0m\n\u001b[0;32m     11\u001b[0m \u001b[1;32mimport\u001b[0m \u001b[0mconfigparser\u001b[0m\u001b[1;33m\u001b[0m\u001b[1;33m\u001b[0m\u001b[0m\n\u001b[0;32m     12\u001b[0m \u001b[1;32mfrom\u001b[0m \u001b[0mdqn\u001b[0m \u001b[1;32mimport\u001b[0m \u001b[0mDQN\u001b[0m\u001b[1;33m\u001b[0m\u001b[1;33m\u001b[0m\u001b[0m\n\u001b[1;32m---> 13\u001b[1;33m \u001b[1;32mfrom\u001b[0m \u001b[0mreward_net\u001b[0m \u001b[1;32mimport\u001b[0m \u001b[0mRewardNet\u001b[0m\u001b[1;33m\u001b[0m\u001b[1;33m\u001b[0m\u001b[0m\n\u001b[0m\u001b[0;32m     14\u001b[0m \u001b[1;32mimport\u001b[0m \u001b[0mnumpy\u001b[0m \u001b[1;32mas\u001b[0m \u001b[0mnp\u001b[0m\u001b[1;33m\u001b[0m\u001b[1;33m\u001b[0m\u001b[0m\n\u001b[0;32m     15\u001b[0m \u001b[1;32mimport\u001b[0m \u001b[0mpandas\u001b[0m \u001b[1;32mas\u001b[0m \u001b[0mpd\u001b[0m\u001b[1;33m\u001b[0m\u001b[1;33m\u001b[0m\u001b[0m\n",
      "\u001b[1;32mD:\\lecture sources\\Win2021\\information system\\IS_Work_git\\budget_constrained_bidding\\src\\rtb_agent\\reward_net.py\u001b[0m in \u001b[0;36m<module>\u001b[1;34m\u001b[0m\n\u001b[0;32m      8\u001b[0m \u001b[1;32mimport\u001b[0m \u001b[0mrandom\u001b[0m\u001b[1;33m\u001b[0m\u001b[1;33m\u001b[0m\u001b[0m\n\u001b[0;32m      9\u001b[0m \u001b[1;32mfrom\u001b[0m \u001b[0mcollections\u001b[0m \u001b[1;32mimport\u001b[0m \u001b[0mnamedtuple\u001b[0m\u001b[1;33m,\u001b[0m \u001b[0mdeque\u001b[0m\u001b[1;33m,\u001b[0m \u001b[0mdefaultdict\u001b[0m\u001b[1;33m\u001b[0m\u001b[1;33m\u001b[0m\u001b[0m\n\u001b[1;32m---> 10\u001b[1;33m \u001b[1;32mfrom\u001b[0m \u001b[0mlru\u001b[0m \u001b[1;32mimport\u001b[0m \u001b[0mLRU\u001b[0m\u001b[1;33m\u001b[0m\u001b[1;33m\u001b[0m\u001b[0m\n\u001b[0m\u001b[0;32m     11\u001b[0m \u001b[1;33m\u001b[0m\u001b[0m\n\u001b[0;32m     12\u001b[0m \u001b[1;32mfrom\u001b[0m \u001b[0mmodel\u001b[0m \u001b[1;32mimport\u001b[0m \u001b[0mNetwork\u001b[0m\u001b[1;33m,\u001b[0m \u001b[0mset_seed\u001b[0m\u001b[1;33m\u001b[0m\u001b[1;33m\u001b[0m\u001b[0m\n",
      "\u001b[1;31mModuleNotFoundError\u001b[0m: No module named 'lru'"
     ]
    }
   ],
   "source": [
    "#if error \"No module named 'lru'\" pop up, uncomment next line\n",
    "#!pip install  lru-dict\n",
    "\n",
    "# Train DRLB\n",
    "\n",
    "import sys  \n",
    "import torch\n",
    "import cloudpickle\n",
    "sys.path.insert(0, 'src/rtb_agent')\n",
    "from rl_bid_agent import RlBidAgent\n",
    "import gym, gym_auction_emulator\n",
    "\n",
    "env = gym.make('AuctionEmulator-v0')\n",
    "env.seed(0)\n",
    "agent = RlBidAgent()\n",
    "\n",
    "obs, done = env.reset()\n",
    "train_budget = env.bid_requests.payprice.sum()/8\n",
    "\n",
    "budget_proportions = []\n",
    "for episode in env.bid_requests.weekday.unique():\n",
    "    budget_proportions.append(len(env.bid_requests[env.bid_requests.weekday == episode])/env.total_bids)\n",
    "for i in range(len(budget_proportions)):\n",
    "    budget_proportions[i] = round(train_budget * budget_proportions[i])\n",
    "agent.episode_budgets = budget_proportions\n",
    "agent._reset_episode()\n",
    "agent.cur_day = obs['weekday']\n",
    "agent.cur_hour = obs['hour']\n",
    "agent.cur_state = agent._get_state() # observe state s_0\n",
    "\n",
    "epochs = 400\n",
    "\n",
    "for epoch in range(epochs):\n",
    "    while not done:\n",
    "        bid = agent.act(obs) # obs = state\n",
    "        next_obs, cur_reward, cur_cost, win, done = env.step(bid)\n",
    "        agent._update_reward_cost(bid, cur_reward, cur_cost, win)\n",
    "        obs = next_obs\n",
    "    print(\"Total Impressions won {} value = {}\".format(agent.total_wins, agent.total_rewards))\n",
    "    if ((epoch + 1) % 20) == 0:\n",
    "        PATH = 'models/model_state_{}.tar'.format(epoch)\n",
    "        torch.save({'local_q_model': agent.dqn_agent.qnetwork_local.state_dict(),\n",
    "                    'target_q_model':agent.dqn_agent.qnetwork_target.state_dict(),\n",
    "                    'q_optimizer':agent.dqn_agent.optimizer.state_dict(),\n",
    "                    'rnet': agent.reward_net.reward_net.state_dict(),\n",
    "                    'rnet_optimizer': agent.reward_net.optimizer.state_dict()}, PATH)\n",
    "\n",
    "        f = open('models/rnet_memory_{}.txt'.format(epoch), \"wb\")\n",
    "        cloudpickle.dump(agent.dqn_agent.memory, f)\n",
    "        f.close()\n",
    "        f = open('models/rdqn_memory_{}.txt'.format(epoch), \"wb\")\n",
    "        cloudpickle.dump(agent.reward_net.memory, f)\n",
    "        f.close()\n",
    "\n",
    "        pd.DataFrame(agent.step_memory).to_csv('models/step_history_{}.csv'.format(epoch),header=None,index=False)\n",
    "        agent.step_memory=[]\n",
    "        pd.DataFrame(agent.episode_memory).to_csv('models/episode_history_{}.csv'.format(epoch),header=None,index=False)\n",
    "        agent.step_memory=[]\n",
    "\n",
    "env.close()"
   ]
  },
  {
   "cell_type": "code",
   "execution_count": 51,
   "metadata": {
    "pycharm": {
     "name": "#%%\n"
    }
   },
   "outputs": [],
   "source": [
    "#random bidding\n",
    "class Random_Bidding():\n",
    "\n",
    "\n",
    "        def random_bidding(self,highest_bid):\n",
    "\n",
    "                #generate a random number generator (0,300)\n",
    "                #get a dataframe with columns('click', 'slotprice', 'payprice','r_bid_price','wins')\n",
    "                c_names=('click','day', 'slotprice', 'payprice','r_bid_price','wins')\n",
    "                zero_Data=np.zeros(shape=(self.total_bids,len(c_names)))\n",
    "                self.df=pd.DataFrame(zero_Data,columns=c_names)\n",
    "                self.df['day']=self.bid_requests['weekday']\n",
    "                self.df['click']=self.bid_requests['click']\n",
    "                self.df['slotprice'] = self.bid_requests['slotprice']\n",
    "                self.df['payprice'] = self.bid_requests['payprice']\n",
    "                self.df['r_bid_price']=np.random.randint(0,highest_bid,[self.total_bids,1])\n",
    "\n",
    "\n",
    "                self.rem_budget=self.budget\n",
    "                self.cur_day=str(int(self.df['day'][0]))\n",
    "                \n",
    "                for i in range(len(self.df)-1):\n",
    "                        if str(int(self.df.loc[i]['day'])) != self.cur_day:\n",
    "                                self.cur_day=str(int(self.df.loc[i]['day']))\n",
    "                                self.rem_budget=self.budget\n",
    "\n",
    "                        cost=self.df.loc[i]['r_bid_price']\n",
    "                        if self.rem_budget<cost:\n",
    "                                self.df.loc[i]['r_bid_price']=self.rem_budget\n",
    "                                cost = self.df.loc[i]['r_bid_price']\n",
    "\n",
    "                        if self.rem_budget<=0:\n",
    "                                  self.df.loc[i]['r_bid_price']=0\n",
    "                                  cost=0\n",
    "\n",
    "                        self.rem_budget-=(cost/1e9)\n",
    "\n",
    "\n",
    "\n",
    "                def wins_value(row):\n",
    "                        if row['r_bid_price'] >= row['slotprice'] and row['r_bid_price'] > row['payprice']:\n",
    "                                return 1\n",
    "                        return 0\n",
    "\n",
    "                self.df['wins'] = self.df.apply(wins_value, axis=1)"
   ]
  },
  {
   "cell_type": "code",
   "execution_count": 62,
   "metadata": {},
   "outputs": [],
   "source": [
    "#load the test dataset\n",
    "# if you are running this notebook locally, please uncomment next line\n",
    "#bid_requests_test=pd.read_csv(os.getcwd() + r'\\data\\ipinyou\\1458\\test.log.txt', sep=\"\\t\")\n",
    "bid_requests_test = pd.read_csv('data/ipinyou/1458/test.log.txt', sep=\"\\t\")"
   ]
  },
  {
   "cell_type": "markdown",
   "metadata": {
    "pycharm": {
     "name": "#%% md\n"
    }
   },
   "source": [
    "the two code blocks below base on ['1/2','1/4','1/8','1/16','1/32'] * total cost"
   ]
  },
  {
   "cell_type": "code",
   "execution_count": 102,
   "metadata": {},
   "outputs": [
    {
     "data": {
      "text/html": [
       "<div>\n",
       "<style scoped>\n",
       "    .dataframe tbody tr th:only-of-type {\n",
       "        vertical-align: middle;\n",
       "    }\n",
       "\n",
       "    .dataframe tbody tr th {\n",
       "        vertical-align: top;\n",
       "    }\n",
       "\n",
       "    .dataframe thead th {\n",
       "        text-align: right;\n",
       "    }\n",
       "</style>\n",
       "<table border=\"1\" class=\"dataframe\">\n",
       "  <thead>\n",
       "    <tr style=\"text-align: right;\">\n",
       "      <th></th>\n",
       "      <th>bugdet</th>\n",
       "      <th>portion</th>\n",
       "    </tr>\n",
       "  </thead>\n",
       "  <tbody>\n",
       "    <tr>\n",
       "      <th>0</th>\n",
       "      <td>2.260823e+07</td>\n",
       "      <td>1/2</td>\n",
       "    </tr>\n",
       "    <tr>\n",
       "      <th>1</th>\n",
       "      <td>1.130411e+07</td>\n",
       "      <td>1/4</td>\n",
       "    </tr>\n",
       "    <tr>\n",
       "      <th>2</th>\n",
       "      <td>5.652057e+06</td>\n",
       "      <td>1/8</td>\n",
       "    </tr>\n",
       "    <tr>\n",
       "      <th>3</th>\n",
       "      <td>2.826028e+06</td>\n",
       "      <td>1/16</td>\n",
       "    </tr>\n",
       "    <tr>\n",
       "      <th>4</th>\n",
       "      <td>1.413014e+06</td>\n",
       "      <td>1/32</td>\n",
       "    </tr>\n",
       "  </tbody>\n",
       "</table>\n",
       "</div>"
      ],
      "text/plain": [
       "         bugdet portion\n",
       "0  2.260823e+07     1/2\n",
       "1  1.130411e+07     1/4\n",
       "2  5.652057e+06     1/8\n",
       "3  2.826028e+06    1/16\n",
       "4  1.413014e+06    1/32"
      ]
     },
     "execution_count": 102,
     "metadata": {},
     "output_type": "execute_result"
    }
   ],
   "source": [
    "bid_random = bid_requests_test\n",
    "bid_tol_cost= bid_requests_test.payprice.sum()\n",
    "bid_budget = pd.DataFrame()\n",
    "bid_budget['bugdet']=[bid_tol_cost/2,bid_tol_cost/4,bid_tol_cost/8,bid_tol_cost/16,bid_tol_cost/32]\n",
    "bid_budget['portion']=['1/2','1/4','1/8','1/16','1/32']\n",
    "bid_budget\n"
   ]
  },
  {
   "cell_type": "code",
   "execution_count": 103,
   "metadata": {
    "pycharm": {
     "name": "#%%\n"
    }
   },
   "outputs": [
    {
     "data": {
      "text/html": [
       "<div>\n",
       "<style scoped>\n",
       "    .dataframe tbody tr th:only-of-type {\n",
       "        vertical-align: middle;\n",
       "    }\n",
       "\n",
       "    .dataframe tbody tr th {\n",
       "        vertical-align: top;\n",
       "    }\n",
       "\n",
       "    .dataframe thead th {\n",
       "        text-align: right;\n",
       "    }\n",
       "</style>\n",
       "<table border=\"1\" class=\"dataframe\">\n",
       "  <thead>\n",
       "    <tr style=\"text-align: right;\">\n",
       "      <th></th>\n",
       "      <th>day</th>\n",
       "      <th>portion</th>\n",
       "      <th>click</th>\n",
       "      <th>winning_impr</th>\n",
       "    </tr>\n",
       "  </thead>\n",
       "  <tbody>\n",
       "    <tr>\n",
       "      <th>0</th>\n",
       "      <td>4</td>\n",
       "      <td>1/2</td>\n",
       "      <td>120</td>\n",
       "      <td>146726</td>\n",
       "    </tr>\n",
       "    <tr>\n",
       "      <th>1</th>\n",
       "      <td>5</td>\n",
       "      <td>1/2</td>\n",
       "      <td>101</td>\n",
       "      <td>153173</td>\n",
       "    </tr>\n",
       "    <tr>\n",
       "      <th>2</th>\n",
       "      <td>6</td>\n",
       "      <td>1/2</td>\n",
       "      <td>112</td>\n",
       "      <td>162084</td>\n",
       "    </tr>\n",
       "    <tr>\n",
       "      <th>3</th>\n",
       "      <td>4</td>\n",
       "      <td>1/4</td>\n",
       "      <td>128</td>\n",
       "      <td>146863</td>\n",
       "    </tr>\n",
       "    <tr>\n",
       "      <th>4</th>\n",
       "      <td>5</td>\n",
       "      <td>1/4</td>\n",
       "      <td>108</td>\n",
       "      <td>153014</td>\n",
       "    </tr>\n",
       "    <tr>\n",
       "      <th>5</th>\n",
       "      <td>6</td>\n",
       "      <td>1/4</td>\n",
       "      <td>114</td>\n",
       "      <td>161910</td>\n",
       "    </tr>\n",
       "    <tr>\n",
       "      <th>6</th>\n",
       "      <td>4</td>\n",
       "      <td>1/8</td>\n",
       "      <td>113</td>\n",
       "      <td>146633</td>\n",
       "    </tr>\n",
       "    <tr>\n",
       "      <th>7</th>\n",
       "      <td>5</td>\n",
       "      <td>1/8</td>\n",
       "      <td>108</td>\n",
       "      <td>152761</td>\n",
       "    </tr>\n",
       "    <tr>\n",
       "      <th>8</th>\n",
       "      <td>6</td>\n",
       "      <td>1/8</td>\n",
       "      <td>117</td>\n",
       "      <td>161851</td>\n",
       "    </tr>\n",
       "    <tr>\n",
       "      <th>9</th>\n",
       "      <td>4</td>\n",
       "      <td>1/16</td>\n",
       "      <td>114</td>\n",
       "      <td>146757</td>\n",
       "    </tr>\n",
       "    <tr>\n",
       "      <th>10</th>\n",
       "      <td>5</td>\n",
       "      <td>1/16</td>\n",
       "      <td>101</td>\n",
       "      <td>152882</td>\n",
       "    </tr>\n",
       "    <tr>\n",
       "      <th>11</th>\n",
       "      <td>6</td>\n",
       "      <td>1/16</td>\n",
       "      <td>113</td>\n",
       "      <td>162069</td>\n",
       "    </tr>\n",
       "    <tr>\n",
       "      <th>12</th>\n",
       "      <td>4</td>\n",
       "      <td>1/32</td>\n",
       "      <td>123</td>\n",
       "      <td>146864</td>\n",
       "    </tr>\n",
       "    <tr>\n",
       "      <th>13</th>\n",
       "      <td>5</td>\n",
       "      <td>1/32</td>\n",
       "      <td>94</td>\n",
       "      <td>152916</td>\n",
       "    </tr>\n",
       "    <tr>\n",
       "      <th>14</th>\n",
       "      <td>6</td>\n",
       "      <td>1/32</td>\n",
       "      <td>106</td>\n",
       "      <td>161837</td>\n",
       "    </tr>\n",
       "  </tbody>\n",
       "</table>\n",
       "</div>"
      ],
      "text/plain": [
       "   day portion click winning_impr\n",
       "0    4     1/2   120       146726\n",
       "1    5     1/2   101       153173\n",
       "2    6     1/2   112       162084\n",
       "3    4     1/4   128       146863\n",
       "4    5     1/4   108       153014\n",
       "5    6     1/4   114       161910\n",
       "6    4     1/8   113       146633\n",
       "7    5     1/8   108       152761\n",
       "8    6     1/8   117       161851\n",
       "9    4    1/16   114       146757\n",
       "10   5    1/16   101       152882\n",
       "11   6    1/16   113       162069\n",
       "12   4    1/32   123       146864\n",
       "13   5    1/32    94       152916\n",
       "14   6    1/32   106       161837"
      ]
     },
     "execution_count": 103,
     "metadata": {},
     "output_type": "execute_result"
    }
   ],
   "source": [
    "\n",
    "rb_result_df = pd.DataFrame(columns= ['day','portion','click','winning_impr'])\n",
    "highest_bid = bid_random.bidprice.sum()/len(bid_random)\n",
    "ass_num=0\n",
    "for i in range(len(bid_budget)):\n",
    "    budget=bid_budget.at[i,'bugdet']\n",
    "   # for epoch in range(epochs):\n",
    "    rb = Random_Bidding()\n",
    "    rb.budget = budget\n",
    "    rb.bid_requests=bid_random\n",
    "    rb.total_bids=len(rb.bid_requests)\n",
    "    rb.random_bidding(highest_bid=highest_bid)\n",
    "    ass_num=0\n",
    "    for day in bid_random['weekday'].unique():\n",
    "        rb_result_df.at[i*len(bid_random['weekday'].unique())+ass_num,'portion']=bid_budget.at[i,'portion']\n",
    "        rb_result_df.at[i*len(bid_random['weekday'].unique())+ass_num,'day']=day\n",
    "        rb_result_df.at[i*len(bid_random['weekday'].unique())+ass_num,'winning_impr']=sum(rb.df.loc[rb.df['day']==day]['wins'])\n",
    "        rb_result_df.at[i*len(bid_random['weekday'].unique())+ass_num,'click']=sum(rb.df.loc[(rb.df['day']==day) & (rb.df['wins']==1)]['click'])\n",
    "        ass_num+=1\n",
    "\n",
    "\n",
    "\n",
    "rb_result_df\n",
    "    \n",
    "\n"
   ]
  },
  {
   "cell_type": "markdown",
   "metadata": {
    "pycharm": {
     "name": "#%% md\n"
    }
   },
   "source": [
    "the two code blocks below base on ['1/2','1/4','1/8','1/16','1/32'] * total cost /3"
   ]
  },
  {
   "cell_type": "code",
   "execution_count": 104,
   "metadata": {
    "pycharm": {
     "name": "#%%\n"
    }
   },
   "outputs": [
    {
     "data": {
      "text/html": [
       "<div>\n",
       "<style scoped>\n",
       "    .dataframe tbody tr th:only-of-type {\n",
       "        vertical-align: middle;\n",
       "    }\n",
       "\n",
       "    .dataframe tbody tr th {\n",
       "        vertical-align: top;\n",
       "    }\n",
       "\n",
       "    .dataframe thead th {\n",
       "        text-align: right;\n",
       "    }\n",
       "</style>\n",
       "<table border=\"1\" class=\"dataframe\">\n",
       "  <thead>\n",
       "    <tr style=\"text-align: right;\">\n",
       "      <th></th>\n",
       "      <th>bugdet</th>\n",
       "      <th>portion</th>\n",
       "    </tr>\n",
       "  </thead>\n",
       "  <tbody>\n",
       "    <tr>\n",
       "      <th>0</th>\n",
       "      <td>7.536076e+06</td>\n",
       "      <td>1/2</td>\n",
       "    </tr>\n",
       "    <tr>\n",
       "      <th>1</th>\n",
       "      <td>3.768038e+06</td>\n",
       "      <td>1/4</td>\n",
       "    </tr>\n",
       "    <tr>\n",
       "      <th>2</th>\n",
       "      <td>1.884019e+06</td>\n",
       "      <td>1/8</td>\n",
       "    </tr>\n",
       "    <tr>\n",
       "      <th>3</th>\n",
       "      <td>9.420095e+05</td>\n",
       "      <td>1/16</td>\n",
       "    </tr>\n",
       "    <tr>\n",
       "      <th>4</th>\n",
       "      <td>4.710047e+05</td>\n",
       "      <td>1/32</td>\n",
       "    </tr>\n",
       "  </tbody>\n",
       "</table>\n",
       "</div>"
      ],
      "text/plain": [
       "         bugdet portion\n",
       "0  7.536076e+06     1/2\n",
       "1  3.768038e+06     1/4\n",
       "2  1.884019e+06     1/8\n",
       "3  9.420095e+05    1/16\n",
       "4  4.710047e+05    1/32"
      ]
     },
     "execution_count": 104,
     "metadata": {},
     "output_type": "execute_result"
    }
   ],
   "source": [
    "bid_random = bid_requests_test\n",
    "bid_tol_cost= bid_requests_test.payprice.sum()\n",
    "bid_budget = pd.DataFrame()\n",
    "bid_budget['bugdet']=[bid_tol_cost/2,bid_tol_cost/4,bid_tol_cost/8,bid_tol_cost/16,bid_tol_cost/32]\n",
    "bid_budget['bugdet']/=3\n",
    "bid_budget['portion']=['1/2','1/4','1/8','1/16','1/32']\n",
    "bid_budget\n"
   ]
  },
  {
   "cell_type": "code",
   "execution_count": 105,
   "metadata": {},
   "outputs": [
    {
     "data": {
      "text/html": [
       "<div>\n",
       "<style scoped>\n",
       "    .dataframe tbody tr th:only-of-type {\n",
       "        vertical-align: middle;\n",
       "    }\n",
       "\n",
       "    .dataframe tbody tr th {\n",
       "        vertical-align: top;\n",
       "    }\n",
       "\n",
       "    .dataframe thead th {\n",
       "        text-align: right;\n",
       "    }\n",
       "</style>\n",
       "<table border=\"1\" class=\"dataframe\">\n",
       "  <thead>\n",
       "    <tr style=\"text-align: right;\">\n",
       "      <th></th>\n",
       "      <th>day</th>\n",
       "      <th>portion</th>\n",
       "      <th>click</th>\n",
       "      <th>winning_impr</th>\n",
       "    </tr>\n",
       "  </thead>\n",
       "  <tbody>\n",
       "    <tr>\n",
       "      <th>0</th>\n",
       "      <td>4</td>\n",
       "      <td>1/2</td>\n",
       "      <td>120</td>\n",
       "      <td>146896</td>\n",
       "    </tr>\n",
       "    <tr>\n",
       "      <th>1</th>\n",
       "      <td>5</td>\n",
       "      <td>1/2</td>\n",
       "      <td>115</td>\n",
       "      <td>153092</td>\n",
       "    </tr>\n",
       "    <tr>\n",
       "      <th>2</th>\n",
       "      <td>6</td>\n",
       "      <td>1/2</td>\n",
       "      <td>109</td>\n",
       "      <td>162087</td>\n",
       "    </tr>\n",
       "    <tr>\n",
       "      <th>3</th>\n",
       "      <td>4</td>\n",
       "      <td>1/4</td>\n",
       "      <td>114</td>\n",
       "      <td>146919</td>\n",
       "    </tr>\n",
       "    <tr>\n",
       "      <th>4</th>\n",
       "      <td>5</td>\n",
       "      <td>1/4</td>\n",
       "      <td>101</td>\n",
       "      <td>152920</td>\n",
       "    </tr>\n",
       "    <tr>\n",
       "      <th>5</th>\n",
       "      <td>6</td>\n",
       "      <td>1/4</td>\n",
       "      <td>111</td>\n",
       "      <td>162273</td>\n",
       "    </tr>\n",
       "    <tr>\n",
       "      <th>6</th>\n",
       "      <td>4</td>\n",
       "      <td>1/8</td>\n",
       "      <td>104</td>\n",
       "      <td>146596</td>\n",
       "    </tr>\n",
       "    <tr>\n",
       "      <th>7</th>\n",
       "      <td>5</td>\n",
       "      <td>1/8</td>\n",
       "      <td>103</td>\n",
       "      <td>152858</td>\n",
       "    </tr>\n",
       "    <tr>\n",
       "      <th>8</th>\n",
       "      <td>6</td>\n",
       "      <td>1/8</td>\n",
       "      <td>108</td>\n",
       "      <td>162084</td>\n",
       "    </tr>\n",
       "    <tr>\n",
       "      <th>9</th>\n",
       "      <td>4</td>\n",
       "      <td>1/16</td>\n",
       "      <td>129</td>\n",
       "      <td>146888</td>\n",
       "    </tr>\n",
       "    <tr>\n",
       "      <th>10</th>\n",
       "      <td>5</td>\n",
       "      <td>1/16</td>\n",
       "      <td>113</td>\n",
       "      <td>153128</td>\n",
       "    </tr>\n",
       "    <tr>\n",
       "      <th>11</th>\n",
       "      <td>6</td>\n",
       "      <td>1/16</td>\n",
       "      <td>116</td>\n",
       "      <td>162063</td>\n",
       "    </tr>\n",
       "    <tr>\n",
       "      <th>12</th>\n",
       "      <td>4</td>\n",
       "      <td>1/32</td>\n",
       "      <td>119</td>\n",
       "      <td>147181</td>\n",
       "    </tr>\n",
       "    <tr>\n",
       "      <th>13</th>\n",
       "      <td>5</td>\n",
       "      <td>1/32</td>\n",
       "      <td>100</td>\n",
       "      <td>152921</td>\n",
       "    </tr>\n",
       "    <tr>\n",
       "      <th>14</th>\n",
       "      <td>6</td>\n",
       "      <td>1/32</td>\n",
       "      <td>121</td>\n",
       "      <td>161917</td>\n",
       "    </tr>\n",
       "  </tbody>\n",
       "</table>\n",
       "</div>"
      ],
      "text/plain": [
       "   day portion click winning_impr\n",
       "0    4     1/2   120       146896\n",
       "1    5     1/2   115       153092\n",
       "2    6     1/2   109       162087\n",
       "3    4     1/4   114       146919\n",
       "4    5     1/4   101       152920\n",
       "5    6     1/4   111       162273\n",
       "6    4     1/8   104       146596\n",
       "7    5     1/8   103       152858\n",
       "8    6     1/8   108       162084\n",
       "9    4    1/16   129       146888\n",
       "10   5    1/16   113       153128\n",
       "11   6    1/16   116       162063\n",
       "12   4    1/32   119       147181\n",
       "13   5    1/32   100       152921\n",
       "14   6    1/32   121       161917"
      ]
     },
     "execution_count": 105,
     "metadata": {},
     "output_type": "execute_result"
    }
   ],
   "source": [
    "\n",
    "rb_result_df_b = pd.DataFrame(columns= ['day','portion','click','winning_impr'])\n",
    "highest_bid = bid_random.bidprice.sum()/len(bid_random)\n",
    "ass_num=0\n",
    "for i in range(len(bid_budget)):\n",
    "    budget=bid_budget.at[i,'bugdet']\n",
    "   # for epoch in range(epochs):\n",
    "    rb = Random_Bidding()\n",
    "    rb.budget = budget\n",
    "    rb.bid_requests=bid_random\n",
    "    rb.total_bids=len(rb.bid_requests)\n",
    "    rb.random_bidding(highest_bid=highest_bid)\n",
    "    ass_num=0\n",
    "    for day in bid_random['weekday'].unique():\n",
    "        rb_result_df_b.at[i*len(bid_random['weekday'].unique())+ass_num,'portion']=bid_budget.at[i,'portion']\n",
    "        rb_result_df_b.at[i*len(bid_random['weekday'].unique())+ass_num,'day']=day\n",
    "        rb_result_df_b.at[i*len(bid_random['weekday'].unique())+ass_num,'winning_impr']=sum(rb.df.loc[rb.df['day']==day]['wins'])\n",
    "        rb_result_df_b.at[i*len(bid_random['weekday'].unique())+ass_num,'click']=sum(rb.df.loc[(rb.df['day']==day) & (rb.df['wins']==1)]['click'])\n",
    "        ass_num+=1\n",
    "\n",
    "\n",
    "\n",
    "rb_result_df_b\n",
    "    "
   ]
  },
  {
   "cell_type": "markdown",
   "metadata": {},
   "source": [
    "# 6. Results"
   ]
  },
  {
   "cell_type": "code",
   "execution_count": null,
   "metadata": {
    "pycharm": {
     "name": "#%%\n"
    }
   },
   "outputs": [],
   "source": []
  },
  {
   "cell_type": "markdown",
   "metadata": {},
   "source": [
    "# 7. References \n",
    "\n",
    "Altman E. (1999): „Constrained Markov decision processes“, CRC Press, Vol. 7.  \n",
    "\n",
    "Kim S., Asadi K., Littman M., et al. (2019): „Removing the Target Network from Deep Q-Networks with the Mellowmax Operator“ , Proc. of the 18th International Conference on Autonomous Agents and Multiagent Systems.\n",
    "\n",
    "Singh A. (2019): „Reinforcement Learning : Markov-Decision Process (Part 1)“, [online] https://towardsdatascience.com/introduction-to-reinforcement-learning-markov-decision-process-44c533ebf8da [08.12.2020].  \n",
    "\n",
    "Stekolshchik R. (2020): „A pair of interrelated neural networks in Deep Q-Network“, [online] https://towardsdatascience.com/a-pair-of-interrelated-neural-networks-in-dqn-f0f58e09b3c4 [09.12.2020].\n",
    "\n",
    "Richard S. and Andrew G. (2018): \"Reinforcement Learning\", The MIT Press,pp.1-6. \n",
    "\n",
    "Wu D., Chen X., Yang X., et al. (2018): „Budget Constrained Bidding by model-free Reinforcement Learning in Display Advertising“, Association for Computing Machinery, 27, pp. 1443–1451.  \n",
    "\n",
    "Zhang W., Yuan S., and Wang J. (2014): „Optimal Real-Time Bidding for Display Advertising“ Association for Computing Machinery, 20, pp. 1077–1086.  \n",
    "\n",
    "Zhou Y., Chakrabarty D., and Lukose R. (2008): „Budget constrained bidding in keyword auctions and online knapsack problems“, International Workshop on Internet and Network Economics, Springer, pp. 566–576.  "
   ]
  },
  {
   "cell_type": "code",
   "execution_count": null,
   "metadata": {
    "pycharm": {
     "name": "#%%\n"
    }
   },
   "outputs": [],
   "source": []
  },
  {
   "cell_type": "markdown",
   "metadata": {},
   "source": [
    "# 7. References \n",
    "\n",
    "Altman E. (1999): „Constrained Markov decision processes“, CRC Press, Vol. 7.  \n",
    "\n",
    "Kim S., Asadi K., Littman M., et al. (2019): „Removing the Target Network from Deep Q-Networks with the Mellowmax Operator“ , Proc. of the 18th International Conference on Autonomous Agents and Multiagent Systems.\n",
    "\n",
    "Singh A. (2019): „Reinforcement Learning : Markov-Decision Process (Part 1)“, [online] https://towardsdatascience.com/introduction-to-reinforcement-learning-markov-decision-process-44c533ebf8da [08.12.2020].  \n",
    "\n",
    "Stekolshchik R. (2020): „A pair of interrelated neural networks in Deep Q-Network“, [online] https://towardsdatascience.com/a-pair-of-interrelated-neural-networks-in-dqn-f0f58e09b3c4 [09.12.2020].\n",
    "\n",
    "Richard S. and Andrew G. (2018): \"Reinforcement Learning\", The MIT Press,pp.1-6. \n",
    "\n",
    "Wu D., Chen X., Yang X., et al. (2018): „Budget Constrained Bidding by model-free Reinforcement Learning in Display Advertising“, Association for Computing Machinery, 27, pp. 1443–1451.  \n",
    "\n",
    "Zhang W., Yuan S., and Wang J. (2014): „Optimal Real-Time Bidding for Display Advertising“ Association for Computing Machinery, 20, pp. 1077–1086.  \n",
    "\n",
    "Zhou Y., Chakrabarty D., and Lukose R. (2008): „Budget constrained bidding in keyword auctions and online knapsack problems“, International Workshop on Internet and Network Economics, Springer, pp. 566–576.  "
   ]
  }
 ],
 "metadata": {
  "kernelspec": {
   "display_name": "Python 3",
   "language": "python",
   "name": "python3"
  },
  "language_info": {
   "codemirror_mode": {
    "name": "ipython",
    "version": 3
   },
   "file_extension": ".py",
   "mimetype": "text/x-python",
   "name": "python",
   "nbconvert_exporter": "python",
   "pygments_lexer": "ipython3",
   "version": "3.7.3"
  }
 },
 "nbformat": 4,
 "nbformat_minor": 4
}
