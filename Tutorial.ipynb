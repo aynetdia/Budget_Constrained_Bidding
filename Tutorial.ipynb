{
 "cells": [
  {
   "cell_type": "markdown",
   "metadata": {},
   "source": [
    "[![Open In Colab](https://colab.research.google.com/assets/colab-badge.svg)](https://colab.research.google.com/github/aynetdia/budget_constrained_bidding/blob/master/Tutorial.ipynb) "
   ]
  },
  {
   "cell_type": "markdown",
   "metadata": {},
   "source": [
    "# Setting up the notebook in Colab"
   ]
  },
  {
   "cell_type": "code",
   "execution_count": null,
   "metadata": {},
   "outputs": [],
   "source": [
    "# Mount on GDrive\n",
    "from google.colab import drive\n",
    "drive.mount('/content/drive')"
   ]
  },
  {
   "cell_type": "code",
   "execution_count": null,
   "metadata": {},
   "outputs": [],
   "source": [
    "# Cloning the repo (only when setting up for the first time)\n",
    "%cd drive/MyDrive\n",
    "!git clone https://github.com/aynetdia/budget_constrained_bidding.git"
   ]
  },
  {
   "cell_type": "markdown",
   "metadata": {},
   "source": [
    "Here's a link to the dataset: https://drive.google.com/drive/folders/1YYyxGMDW0EuZA2BI-uR_2j60lpngKgy8?usp=sharing\n",
    "\n",
    "In order to set up the dataset, you either have to download the linked folder containing the dataset and put it into `/budget_constrained_biddig/data/ipinyou/`, in case you choose to run the notebook locally, or add a GDrive shortcut (go to: Shared with me -> Right click on the dataset folder -> Add shortcut to Drive) and select the  same `/budget_constrained_biddig/data/ipinyou/` as a location to place the shortcut in, if you want to run the notebook in Colab.\n",
    "\n",
    "Link to the Github repo: https://github.com/aynetdia/budget_constrained_bidding.git\n",
    "\n",
    "If needed, all the package requirements are listed in the requirements_pip.txt (for pip envs) and requirements_conda.txt (for conda envs) files, contained inside the Github repo."
   ]
  },
  {
   "cell_type": "code",
   "execution_count": null,
   "metadata": {},
   "outputs": [],
   "source": [
    "# Go into the project folder and pull the last changes (do that every time before running the notebook)\n",
    "# If executing after cloning the repo: %cd budget_constrained_bidding\n",
    "%cd /content/drive/MyDrive/budget_constrained_bidding\n",
    "!git pull"
   ]
  },
  {
   "cell_type": "markdown",
   "metadata": {},
   "source": [
    "# Table of Contents\n",
    "\n",
    "&emsp;&emsp;1. Introduction into the application domain\n",
    "\n",
    "&emsp;&emsp;2. Methods\n",
    "\n",
    "&emsp;&emsp;3. DRLB Framework\n",
    "\n",
    "&emsp;&emsp;4. Description of the Data Set\n",
    "\n",
    "&emsp;&emsp;5. DRLB Implementation\n",
    "\n",
    "&emsp;&emsp;6. DRLB Results \n",
    "\n",
    "&emsp;&emsp;7. References"
   ]
  },
  {
   "cell_type": "markdown",
   "metadata": {},
   "source": [
    "# 1. Introduction"
   ]
  },
  {
   "cell_type": "markdown",
   "metadata": {},
   "source": [
    "Allocating budget efficiently is a problem that has received a lot of attention in marketing literature. Budget constrained bidding, as an automated bidding strategy and a common scenario in Real-Time Bidding (RTB), is an important concept in online display advertising. This tutorial addresses the problem of budget allocation in marketing context and presents a solution for budget constrained bidding problem, which leverages model-free reinforcement learning. The tutorial is based on the findings of Wu D., et al. (2018) presented in \"Budget Constrained Bidding by Model-free Reinforcement Learning in Display Advertising\". It proposes a model-free deep reinforcement learning method to solve the budget constrained bidding problem in RBT display advertising.\n",
    "\n",
    "In this tutorial, we firstly explain how real-time bidding works and what budget constrained bidding problem is. Then we introduce some basic concepts of Reinforcement Learning, Constrained Markov Decision Process and Deep Q-Networks. In the next section we explain the Deep Reinforcement Learning to Bid framework, followed by a brief description of the dataset and an explanation on the implementation of the algorithms. Lastly, we discuss the results.\n",
    "\n",
    "    \n"
   ]
  },
  {
   "cell_type": "markdown",
   "metadata": {},
   "source": [
    "\n",
    "## 1.1 Real-time bidding   \n",
    "\n",
    "\n",
    "Real-time bidding is a trading mechanism for online display advertising. It is an auction and describes the mechanism of advertisers setting a bid price for every ad impression (i.e. the ad placement) in real-time (Liu et al. , 2019).  \n",
    "\n",
    "Figure 1 illustrates the following process of RTB. An ad impression is created when a user visits an ad-supported site (e.g. webpage or mobile apps) which then triggers an auction. Then an ad requests is sent by the supply-side platform (SSP, such as a webpage) to the ad exchange (ADX, that publishes the bid requests to the DSPs and that also holds auctions to determine which campaign win the ad impression). Accordingly, the demand-side platform (DSP, i.e. the advertisers’ buying systems) generates different bid prices. A bid price is based on users features (e.g. region) and ad features (e.g. ad dimension) extracted from the data management platform (DMP) or the webpage itself. The ADX then determines the winning advertiser (Liu et al. , 2019). Solely the highest bidder wins the ad impression opportunity to display its ad on the webpage.   \n",
    "\n",
    "According to the widely used second-price auction principal, the winning advertiser pays the second highest bid in the auction (Wu et al., 2018). This cost basically is defined as the market price (Zhang et al. , 2014). The second-price auction ensures that the bid price for each ad impression should be equal to its true value of an action (e.g. click-through-rate). \n",
    "A challenge is to capture those valuable ad impressions in real-time, which can be solved by an appropriate bidding strategy.\n",
    "\n",
    "\n",
    "\n",
    "<p align=\"center\">\n",
    "<img src=\"https://drive.google.com/uc?export=view&id=14dbywvUp94LlXv3sjL1VpDCs10SuYLRN\" />\n",
    "</p>\n",
    "\n",
    "<p align=\"center\">\n",
    "Fig. 1: RTB \n",
    "<p>  \n",
    "\n",
    "\n",
    "\n",
    "\n",
    "\n",
    "\n"
   ]
  },
  {
   "cell_type": "markdown",
   "metadata": {},
   "source": [
    "## 1.2 Budget Constrained Bidding\n",
    "\n",
    "Budget Constrained Bidding is an automated bidding strategy in RTB. It serves as a mechanism to address the typical optimization goal, where advertisers opt to maximize the total value of winning impressions under a certain budget constraint. Generally, an impression is the presence of an online advertisement on e.g. a browsing website. A winning impression value is associated with the expected outcome of an advertisement, e.g. a click on the ad or a conversion as user feedback.  \n",
    "\n",
    "A bidding strategy is based on the evaluation of impressions on an ad campaign, e.g. by the predicted click-through rate (CTR) or calculated bid price for each impression.   \n",
    "A campaign runs during a certain time period that captures $N$ impression opportunities in sequential order $i$. Considering the competition with other bidders in real-time and the impression value $v{_i}$ of an ad placement, an advertiser gives a bid $b{_i}$ and only wins the auction if $b{_i}$ is the highest bid (Wu D., et al., 2018). In this case the advertiser gets the opportunity to display the ad and and thus, wins the ad impression, which then induces costs $c{_i}$. An optimal bid in RTB with budget constraint B takes the from of:\n",
    "\n",
    "$$ b{_i} = \\frac{v{_i}}{\\lambda}, $$\n",
    "\n",
    "where $v{_i}$ denotes the impression value of an ad placement and $\\lambda$ a scaling parameter mapping $v{_i}$ to the scale of the bid (Zhang W., et al., 2016). If $\\lambda$ increases, then the bid price decreases. Hence, high constrained budget should cause the general bidding price level to be lower (Zhang W., et al., 2014).  \n",
    "\n",
    "However, the optimal bidding strategy depends on the market competition, auction volume and campaign budget. Bidding strategies usually consider the bid decision by treating each ad impression independently, ignoring the impacts of the overall effectiveness of the campaign and the dynamics of the RTB environment. Since the market price (second highest bid price) is unknown during the budget constrained bidding in real-time bidding environment, developing an optimal bidding strategy is complex to derive but yet crucial for advertisers to maximize their budget cost efficiency of each ad campaign. Reinforcement Learning (RL) is a solution for the above problem.\n",
    "\n",
    " "
   ]
  },
  {
   "cell_type": "markdown",
   "metadata": {},
   "source": [
    "## 1.3 Knapsack problem\n",
    "\t\n",
    "The basic idea of the Knapsack problem is to find an optimal strategy under some constraints. For example, how to choose the most suitable items to be placed in the backpack in order to maximize the values of the items, given a limited total weight. Such problems can usually be solved recursively, i.e., by converting the original problem into an iterable subproblem, and then solving it optimally by dynamic programming methods. KP is decomposed into multiple P, each instance P’ in RL represents a P and will be described as [ state,action,reward ] (Reza R.A, Yingqian Z., Murat F. et al， 2020). Regarding our research subject, budget constrained bidding is basically a knapsack problem (Zhou Y., et al., 2008). In this paper, we will apply Reinforcement Learning to efficiently allocate given budget and try to gain maximum rewards.\n",
    "  \n",
    "\n",
    "<p align=\"center\">\n",
    "<img src=\"https://drive.google.com/uc?export=view&id=1iUdccP4aFYMTZ8y9oSgO57-1G3mvyNR_\" width=300 height=200 />\n",
    "</p>\n",
    "\n",
    "\n",
    "<p align=\"center\">\n",
    "Fig. 2:  Knapsack Problem\n",
    "<p>  \n"
   ]
  },
  {
   "cell_type": "markdown",
   "metadata": {},
   "source": [
    "# 2. Methods"
   ]
  },
  {
   "cell_type": "markdown",
   "metadata": {},
   "source": [
    "## 2.1 Introduction to Reinforcement Learning "
   ]
  },
  {
   "cell_type": "markdown",
   "metadata": {},
   "source": [
    "\n",
    " \n",
    "Reinforcement Learning (RL) is a tool to support sequential decision-making events and is a highly active research field of machine learning. It finds enormous application in e.g. real-time-bidding in advertisement auction.\n",
    "\n",
    "In order to make the process more clear, we first explain some basic concept of RL as follows:\n",
    "\n",
    "- Policy: the whole actions the learning agent has taken in a concrete period \n",
    "\n",
    "- Agent: the one who takes the action\n",
    "\n",
    "- Environment: the place where the agent takes action and interacts with him\n",
    "\n",
    "- Action: the move the agent makes to interact with the environment\n",
    "\n",
    "- State: a situation in which the agent perceives \n",
    "\n",
    "- Reward: feedback of the agent’s action \t\n",
    "\n",
    "\n",
    "RL is a solution for core control problems in which an agent sequentially interacts with an unknown environment to maximize its cumulative reward (Richard S. and Andrew G., 2018). It is a simulation of the human learning process in dynamic environments without any supervision. To find the best strategy of reward maximization, the agent continuously interacts with the environment and finds the optimal action under different states. Roughly speaking, the agent’s goal is to get as much reward as possible over the long run.\n",
    "\n",
    "For instance, board game playing is a classical dynamic decision-making process. Players need to interact with their counterparts. It is a procedure filled with immediate rewards, intuitive judgments, and each action will generate an impact in the end. The cumulative reward will decide its win-or-failure (Richard S. and Andrew G., 2018).\n",
    "\n",
    "In reality, such scenarios will consist of several problems that can be solved by a class of solution methods, but not all of them can achieve the rewards maximization objective. In the learning process of RL, each action the agent made, will generate some impact not only on the immediate reward but also on the future states. In other words, RL faces a dynamic decision-making problem, the agent will obtain continuous rewards and punishments in this learning process and modify its behaviors according to the environment's feedbacks and finally to maximize the cumulative reward.\n",
    "\n",
    "\n",
    "And the following image illustrates how typically agents interact with their environments in RL-based models:\n",
    " <!--<img src=\"img/process_RL.png\" width=600 height=600 /> -->\n",
    "<p align=\"center\">\n",
    "<img src=\"https://drive.google.com/uc?export=view&id=1y_z3Xg_QCsK9kkfV3tWhtqJNDmW4PrAJ\" />\n",
    "</p>\n",
    "\n",
    "<p align=\"center\">\n",
    "Fig. 3:  Reinforcement Learning Process\n",
    "<p>  \n",
    "\n",
    "\t\n",
    "\n"
   ]
  },
  {
   "cell_type": "markdown",
   "metadata": {},
   "source": [
    "### 2.2 Markov Decision Process\n",
    "\n",
    "The Markov Decision Process (MDP) is a popular mechanisms to model Reinforcement Learning problems. MDP (Sutton and Barto, 2014) provides a framework that is widely used for modeling the dynamic agent-environment interactions - as mentioned and depicted in figure 4.   \n",
    "\n",
    "An MDP can be represented by a tuple (S, A, P, R), where S and A denotes sets of all states and all possible actions $a$ $\\in$ $A$  in state $s$ $\\in$ $S$, P represents the state transition probability from state $s$ $\\in$ $S$ to another state $s^\\prime$ $\\in$ $S$ when taking action $a$ $\\in$ $A$ that is denoted as $\\mathrm{𝑇}(𝑠,𝑎,𝑠^\\prime)$ and R represents the reward function that is denoted as $r(a,s,s^\\prime)$. Accordingly, in MDP the interaction process between the agent and its environment is summarized as the following: The agent observes state $s_t$ from the environment and takes action $a_t$ according to the policy strategy $\\pi$ in each time step t∈T (Liu et al., 2019). In MDP the state transition $𝑇(𝑠,𝑎,𝑠^\\prime)$ produces the probability $𝑃(𝑠^\\prime | 𝑠,𝑎)$ to transition from state s into state $𝑠^\\prime$ , given that the agent took action 𝑎. The environment then returns a reward $r_t$ to the agent. The rewards (numerical values) can be positive or negative based on the agents action (Sutton and Barto, 2014,  Liu et al., 2019). \n",
    "The agent then observes the next state and the process repeats. MDP will terminate after T time steps (e.g. after the budget is exhausted) since the time is limited.    \n",
    "\n",
    "\n",
    "In MDP the policy $\\pi$ is a mechanism to take decisions. Policies are defined by the action an agent takes on the current state (it does not depend on history) (Sutton and Barto, 2014). The agent uses the policy to interact with the environment by sequentially taking actions and to alter its behavior in order to maximize the cumulative reward 𝑅 (all the rewards that the agent receives from the environment) (Wu D., et al., 2018).  \n",
    "\n",
    "Overall, the goal of the agent is to learn the optimal policy $\\pi^*$ , which maximizes the long-term expected reward form the start state:\n",
    "$$\\pi^* = arg max_{\\pi}  E [R | \\pi],$$ where $R = \\sum^T_{t=1} \\gamma^{t-1} r_t $ denotes the cumulative discounted reward (Wu D., et al., 2018).    \n",
    "  \n",
    "Figure 4 illustrates the overall process of MDP.    \n",
    "<p align=\"center\">\n",
    "<img src=\"https://drive.google.com/uc?export=view&id=15kJ_shivzm2VBhEMv7U952tHaa9WChfA\" />\n",
    "</p>\n",
    "\n",
    "<p align=\"center\">\n",
    "Fig. 4: Markov decision process (Liu et al., 2019) \n",
    "<p>  \n"
   ]
  },
  {
   "cell_type": "markdown",
   "metadata": {},
   "source": [
    "## 2.3 Constrained Markov Decision Process  \n",
    "\n",
    "Constrained Markov Decision Process (CMDP) (Altman E., 1999) extends the concept of MDP by adding additional constraints, e.g. a cost constraint. The policy opimization problem is formulated as the following:  \n",
    "\n",
    "$$max_\\pi E [R | \\pi]$$   $$s.t. E(c^k | \\pi) <= \\hat{c}^k   \\forall k \\in \\{1,...,K\\}$$  \n",
    "where $\\hat{c}^k$ denotes the constraint of type k cost. \n",
    "\n",
    "Note that the (C)MDP is often solve using model-based reinforcement learning approaches, where the state transition dynamics $T$ needs to be known in advance but is yet hard to predict, when considering the dynamic and unpredictable environment of an agent. Besides, model-based approaches suffer from the scalability problem, since calculations of state transitions matrices, which are then solved using dynamic programming algorithms, require high computational costs, which may be detrimential when deployed in real-world scenarios.\n",
    "\n",
    "In contrast to this, model-free reinforcement learning approaches solves reinforcement learning tasks directly by solely using the policy function. Therefore, our focal paper proposes to use deep Q-Networks (DQN), which is a model-free RL approach. \n",
    "\n"
   ]
  },
  {
   "cell_type": "markdown",
   "metadata": {},
   "source": [
    "## 2.4 Bellman Equation for value functions\n",
    "\n",
    "Reinforcement learning mostly involves estimating **value functions**, which are functions of states (quantifies the value of every state-action pair) (Sutton and Barto, 2014). It is used to estimate how good it is for the agent to be in a given state, i.e. how good (or bad) future rewards are that can be expected from experience (expected return). Since the expected return depends on the action that the agent will take, the value functions are defined respectively to particular policies. \n",
    "As mentioned earlier in section 2.2, MDPs aim to help the agent to find an optimal policy in its environment. Policies are defined by the action an agent takes on the current state. The objective of MDP policies is to maximize the expected return (reward from environment) for the agent. Thus, the policy $\\pi$ of the value function defines the probability distribution of taking action a when in state s (Sutton and Barto, 2014), which essentially determines the behavior of an agent. For instance, this corresponds to the bidding strategy in RTB display advertising. If an agent follows a policy $\\pi$ at time 𝑡 then $\\pi(𝑎|𝑠)$ is the probability of that agent taking action 𝑎 at a particular time step 𝑡. The policy $\\pi$ is defined as follows (Singh A., 2019):    \n",
    "$$\\pi: S \\rightarrow P(A) .$$ \n",
    "So essentially, it is used to estimate how good an agent's actions $a$ $\\in$ $A$ in a particular state $s$ $\\in$ $S$ is.  \n",
    "\n",
    "\n",
    "The **Bellman Equation for value function** $v_\\pi$ expresses the relationship between the value of a state $s$ and the values of its successor states $s^\\prime$ (Sutton and Barto, 2014). It helps to determine optimal policies and optimal value functions. \n",
    "The agent chooses the action according to the imposed policy. We know that policy changes with experience. Hence, different policies implies different value functions. \n",
    "The optimal value function is the one that gives the maximum value. So, we choose a sequence of action that will generate the highest reward which is the cumulative reward (referred to as Quality Value (Q-Value) in section 2.5). We will receive the highest Q-Value from $s^\\prime$  by choosing the action that maximizes the Q-Value.   \n",
    "\n",
    "\n",
    "So, the Bellman Equation is the expectation of reward the agent got on leaving the state $s$ plus the discounted value of the state $s^\\prime$  the agent moved to. The Bellman Equation can be decomposed into the immediate reward, $R[t+1]$ , and the discounted value of successor states:\n",
    "\n",
    "$$v_\\pi(s)=E[R_{t+1} + \\gamma v(S_{t+1}) | S{_t} = s].$$    \n",
    "\n",
    "The discount factor $\\gamma$ controls the importance of longterm rewards versus the immediate rewards. An immediate reward is yielded from being at state s and selecting action a. \n",
    "The value of a state, under an optimal policy, must equal the expected reward for the best action from that state (Sutton and Barto, 2014).     \n"
   ]
  },
  {
   "cell_type": "markdown",
   "metadata": {},
   "source": [
    "## 2.5 Deep Q-Networks  \n",
    "As mentioned in section 2.4, we will use a model-free RL alogrithm to deal with the shortcomings of CMDP. Deep Q-Network (DQN) (Mnih, Kavukcuoglu, Silver et al., 2015) combines the methods of reinforcement learning and deep neural networks to map the environment states to the agents actions. DQN is a popular method of Q-learning. \n",
    "\n",
    "**Q-learning** algorithms (Watkins & Dayan, 1992) can be used when the probabilities of transitions are unknown and when the state or action spaces are large. It focus on learning a Q-Function that qualifies a state-action pair. So, the Q-Function tells us the value of performing a certain action or respectively how good it is for the agent to take action (a) in a state (s) with a policy $\\pi$.\n",
    "It iteratively computes the optimal value function, i.e. for each state s at each timestep t , the optimal value Q*(s,a,t) of each action a is estimated (Sutton and Barto, 2014).  \n",
    "\n",
    "A Q-Value (Quality Value) represents the expected longterm reward of a Q-Learning algorithm under the assumption that the agent takes a perfect sequence of actions from a specific state. At any given state, we perform the action that will eventually yield the highest cumulative reward. This makes the algorithm greedy (Mnih, Kavukcuoglu, Silver et al., 2015). \n",
    "\n",
    "Essentially, Q-Learning utilizes the Bellman Equation. To estimate these state/action values, we can then update it using the Bellman Equation as an update rule (Watkins & Dayan, 1992):  \n",
    "$$ Q(s,a) := r(s,a) + \\gamma max_a Q(s^\\prime, a)$$ \n",
    "\n",
    "As mentioned in section 2.3, it roughly states that the maximum future reward for a specific action, is the current immediate reward plus the future reward for taking action.  \n",
    "\n",
    "\n",
    "However, the main challenge of Q-Leraning and Bellman Equation is to the compute cost associated with estimating all combinations of state-action rewards, involving a large number of states. Thus, we approximate a Q-function instead of learning an exact Q-Function that evaluates all possible Q-Values. This is were DQN comes into play. \n",
    "\n",
    "\n",
    "**DQN** (Mnih, Kavukcuoglu, Silver et al., 2015) uses deep neural networks to approximate the Q-Function corresponding to the optimal policy without the need of handcrafting useful features, as shown in figure 4. Recall that the goal of an agent is to select actions in order to maximize the cumulative reward. This cumulative reward that we receive is often referred to as the Q-Value. Thus, by utilizing deep neural networks we can approximate the Q-Value of all possible actions for given states.  This is referred to as the approximate value function $Q(s,a;\\theta_i)$, where $\\theta_i$ are the parameter (i.e. weights) of the Q-network at iteration i. To ensure that experience replay can be performed, the agents experiences $e_t=(s_t,a_t,r_t,s_{t+1})$ at each time step t in a data set $D(t)=\\{e_1,...,e_t\\}$ are stored. Q-learning updates are applied on samples (or minibatches) of experience ($s,a,r,s^\\prime _\\tilde{} U(D)$) during learning, which are drawn uniformly at random from the stored samples. The Q-learning updates at iteration i by using the following loss function:  \n",
    "\n",
    "$$ L_i(\\theta_i) = E_{s,a,r,s^\\prime _\\tilde{} U(D)}[(r+ \\gamma max_{a^\\prime} Q(s^\\prime, a^\\prime; \\theta^{-}_i)-Q(s,a;\\theta_i)^2]$$ \n",
    "\n",
    "where $\\gamma$ is the discount factor determing the agents horizon, $\\theta_i$ are the trainable weights parameter of the network and $\\theta^{-}_i$ are the network parameters to compute the target value at iteration i.\n",
    "\n",
    "Figure 5 illustrates the architecture of DQN.\n",
    "\n",
    "\n",
    "<p align=\"center\">\n",
    "<img src=\"https://drive.google.com/uc?export=view&id=1W9i2ZtcQVPkz-SkFOuYCZ9zju4vgTypZ\" />\n",
    "</p>\n",
    "\n",
    "<p align=\"center\">\n",
    "Fig. 5: DQN architecture \n",
    "<p>  \n",
    "\n",
    "To deal with the greedy behaviour of the Q-Learner, in DQN the parameter $\\epsilon$ of the $\\epsilon$-greedy mechanism controls the proportion of exploration and exploitation, where $\\epsilon$ is bounded at 0 < $\\epsilon$ < 1 (Wu et al., 2018). The exploitation describes that the agent finds his following action by maximizing the Q-value over all possible actions for the given state.The agent has the change to explore new opportunities.   \n",
    "\n",
    "\n",
    "All in all, the agent uses deep neural networks to determine its actions and to predict the weighted, cumulative rewards of all actions. In DQN the agent learns the optimal policy by interacting directly with the workflow environment and also with the policies of other agents."
   ]
  },
  {
   "cell_type": "markdown",
   "metadata": {},
   "source": [
    "\n",
    "## 2.6 ML paradigm comparison\t\n",
    "\n",
    "\n",
    "\n",
    "Besides RL, supervised learning and unsupervised learning are the most classic machine learning methods. In this section, we explain why RL is the best choice for solving dynamic decision-making problems. Thus, the core differences among these three methods are shown in table below.\n",
    "\n",
    "<!--<img src=\"img/methods_comparison.png\" width=600 height=600 />-->\n",
    "\n",
    "<p align=\"center\">\n",
    "<img src=\"https://drive.google.com/uc?export=view&id=1U8oQjgdYPhFZ-FMyuyF2MPYSIuXksVkq\" />\n",
    "</p>\n",
    "\n",
    "<p align=\"center\">\n",
    "Fig. 6: Machine Learning Methods Comparison\n",
    "<p>  \n",
    "\n",
    "\n",
    "Supervised learning is mainly used to solve regression and classification problems. It explores the relation among labeled, the target variable, and other input variables and produces a model to predict further category identification.\n",
    "\n",
    "In comparison, unsupervised learning obtains unlabeled observations and searches the hidden structure behind the input data. Both of these methods are not suitable for the desired behavior optimization problem in a dynamic process. Unlike supervised and unsupervised learning, which will not consider the capacity or some constrained environments, reinforcement learning will start with a clear initial setting, goal, and interactive agent. All the sequential action the agent takes will generate some influence in this environment. After a dynamic model training process, the agent obtains more and more rewards as desired by taking optimal actions in order to maximize the cumulative reward. \n",
    "\n",
    "Reinforcement Learning models heavily lean on the concept of a Markov Decision Process, which is used to formulate a given problem and thus find an optimal solution. Generally, when we can map our problems into an MDP, we can expect that reinforcement learning can be a useful tool to solve such problems. In the next section, we will explain the details behind Markov Decision Processes and how they are constructed, and give more details about Deep Reinforcement Learning to Bid, which is the main focus in our project.\n"
   ]
  },
  {
   "cell_type": "markdown",
   "metadata": {
    "pycharm": {
     "name": "#%% md\n"
    }
   },
   "source": [
    "# 3. Deep Reinforcement Learning to Bid (DRLB)"
   ]
  },
  {
   "cell_type": "markdown",
   "metadata": {
    "pycharm": {
     "name": "#%% md\n"
    }
   },
   "source": [
    "To address the problem of budget constrained bidding in real-time advertisement, Wu et al. (2018) proposed a framework that is built on top of DQN - Deep Reinforcement Learning to Bid (DRLB). The advantage of this framework for RTB is given by the fact that it is a model-free RL approach.\n",
    "\n",
    "Thus, Wu et al. proposed training a **DQN agent** that sequentially regulates the bidding parameter $\\lambda$ (remember, the bid in DRLB takes form of $b_i = v_i/{\\lambda}$) instead of directly producing bids, which is the case in model-based approaches like the one introduced by Cai et al. (2017). Furthermore, instead of using the immediate reward from the environment to determine an optimal policy, an additional deep neural network (called **RewardNet**) is trained simultaneously with the DQN to predict the reward. Wu et al. (2018) found that simply using the immediate reward will make the agent obsessed with taking actions to agressively decrease $\\lambda$ from the get go to gain more immediate reward at each step and thus effectively neglect the budget constraint.\n",
    "\n",
    "Before delving more into details of DRLB implementation, we'll describe the dataset that was used to train and evaluate the DRLB."
   ]
  },
  {
   "cell_type": "markdown",
   "metadata": {
    "pycharm": {
     "name": "#%% md\n"
    }
   },
   "source": [
    "# 4. Description of the Data Set"
   ]
  },
  {
   "cell_type": "markdown",
   "metadata": {
    "pycharm": {
     "name": "#%% md\n"
    }
   },
   "source": [
    "This section gives a brief insight into the data structure and depicts the results of some explanatory data analysis (EDA) to provide a better understanding of the data.    \n",
    "\n",
    "The datasets are provided by the Demand-Side Plateform (DSP) iPinYou Information Technologies Co., Ltd which is an established leading provider for audience-based programmatic adverting technology and builds RTB technology and algorithms. We examine the dataset of the advertiser with the advertiser ID \"1458\" that operates in the chinese vertical e-commerce industry. \n",
    "\n",
    "The data sets are split into train and test sets according according to Zhang et al. (2014), using their [Github repository](https://github.com/wnzhang/make-ipinyou-data), which is considered a benchmark format of the iPinYou dataset and also used for training and evaluating the DRLB framework. For the train set the first seven days are used for training, while for the test dataset the last three days are used for evaluation. Hence, in total the datasets comprise tracked performance from ten continous days.\n",
    "\n",
    "Both data sets generally record the auction price (i.e. paying and bidding price), user feedback (i.e click, conversion, impression) and ad features (e.g. ad slot ID, width, height, visibility, floor price). In this dataset we deal with the **second price auction**, which means that the varaible *payprice*, representing the highest bid of \"opponents\" bidding simuiltaneously on a given ad placement, determines how much in the end will be paid for the bid request.\n",
    "\n",
    "Another important aspect is that we slightly modified each dataset by including additional variables, in accordance with Wu et al (2018). We added the predicted click-trough-rate (pCTR) and time intervals for every quarter of an hour in minutes (min). The pCTR is used as an indicator of the impression value (i.e. how much is a given ad placement worth - the higher the probability of the click, the more it is worth to the advertiser), which is a second parameter ($v_i$) used to calculate the bid amount for a given ad placement, as explained in the introduction. Each 15 min interval represents a time step in the DRLB framework.\n",
    "\n",
    "As for the variable pCTR, we applied a logistic regression to predict the CTR based on the features of the train set and clicks as our target variable.  "
   ]
  },
  {
   "cell_type": "code",
   "execution_count": null,
   "metadata": {},
   "outputs": [],
   "source": [
    "#you should find yourself inside the project folder after you've pulled the latest changes\n",
    "!ls"
   ]
  },
  {
   "cell_type": "code",
   "execution_count": 2,
   "metadata": {},
   "outputs": [],
   "source": [
    "import numpy as np\n",
    "import pandas as pd\n",
    "import seaborn as sns\n",
    "import matplotlib.pyplot as plt"
   ]
  },
  {
   "cell_type": "code",
   "execution_count": 3,
   "metadata": {},
   "outputs": [],
   "source": [
    "# Load datasets\n",
    "df_bid_train = pd.read_csv('data/ipinyou/1458/train.log.txt', sep=\"\\t\") \n",
    "df_bid_test = pd.read_csv('data/ipinyou/1458/test.log.txt', sep=\"\\t\") "
   ]
  },
  {
   "cell_type": "code",
   "execution_count": 5,
   "metadata": {},
   "outputs": [
    {
     "name": "stdout",
     "output_type": "stream",
     "text": [
      "<class 'pandas.core.frame.DataFrame'>\n",
      "RangeIndex: 3083056 entries, 0 to 3083055\n",
      "Data columns (total 27 columns):\n",
      " #   Column          Dtype  \n",
      "---  ------          -----  \n",
      " 0   click           int64  \n",
      " 1   weekday         int64  \n",
      " 2   hour            int64  \n",
      " 3   bidid           object \n",
      " 4   timestamp       int64  \n",
      " 5   logtype         int64  \n",
      " 6   ipinyouid       object \n",
      " 7   useragent       object \n",
      " 8   IP              object \n",
      " 9   region          int64  \n",
      " 10  city            int64  \n",
      " 11  adexchange      int64  \n",
      " 12  domain          object \n",
      " 13  url             object \n",
      " 14  urlid           float64\n",
      " 15  slotid          object \n",
      " 16  slotwidth       int64  \n",
      " 17  slotheight      int64  \n",
      " 18  slotvisibility  int64  \n",
      " 19  slotformat      int64  \n",
      " 20  slotprice       int64  \n",
      " 21  creative        object \n",
      " 22  bidprice        int64  \n",
      " 23  payprice        int64  \n",
      " 24  keypage         object \n",
      " 25  advertiser      int64  \n",
      " 26  usertag         object \n",
      "dtypes: float64(1), int64(16), object(10)\n",
      "memory usage: 635.1+ MB\n"
     ]
    }
   ],
   "source": [
    "# This is an overiew of the features in the training data\n",
    "df_bid_train.info()"
   ]
  },
  {
   "cell_type": "code",
   "execution_count": 6,
   "metadata": {},
   "outputs": [
    {
     "name": "stdout",
     "output_type": "stream",
     "text": [
      "Dimensionality of the train data is (3083056, 27)\n",
      "The data set has 3083056 cases.\n",
      "The total number of elements is 83242512.\n",
      "The total numbers of missing values of each variable in train data are \n",
      "click                   0\n",
      "weekday                 0\n",
      "hour                    0\n",
      "bidid                   0\n",
      "timestamp               0\n",
      "logtype                 0\n",
      "ipinyouid               0\n",
      "useragent               0\n",
      "IP                      0\n",
      "region                  0\n",
      "city                    0\n",
      "adexchange              0\n",
      "domain             169140\n",
      "url                 68566\n",
      "urlid             3083056\n",
      "slotid                  0\n",
      "slotwidth               0\n",
      "slotheight              0\n",
      "slotvisibility          0\n",
      "slotformat              0\n",
      "slotprice               0\n",
      "creative                0\n",
      "bidprice                0\n",
      "payprice                0\n",
      "keypage                 0\n",
      "advertiser              0\n",
      "usertag            399463\n",
      "dtype: int64.\n"
     ]
    }
   ],
   "source": [
    "# View dimension and missing values of the train set\n",
    "#print(df_bid_train.columns)\n",
    "print('Dimensionality of the train data is {}'.format(df_bid_train.shape)) \n",
    "print('The data set has {} cases.'.format(df_bid_train.shape[0]))    \n",
    "print('The total number of elements is {}.'.format(df_bid_train.size))\n",
    "print('The total numbers of missing values of each variable in train data are \\n{}.'.format(df_bid_train.isna().sum()))"
   ]
  },
  {
   "cell_type": "code",
   "execution_count": 8,
   "metadata": {},
   "outputs": [
    {
     "name": "stdout",
     "output_type": "stream",
     "text": [
      "<class 'pandas.core.frame.DataFrame'>\n",
      "RangeIndex: 614638 entries, 0 to 614637\n",
      "Data columns (total 29 columns):\n",
      " #   Column          Non-Null Count   Dtype  \n",
      "---  ------          --------------   -----  \n",
      " 0   click           614638 non-null  int64  \n",
      " 1   weekday         614638 non-null  int64  \n",
      " 2   hour            614638 non-null  int64  \n",
      " 3   bidid           614638 non-null  object \n",
      " 4   timestamp       614638 non-null  int64  \n",
      " 5   logtype         614638 non-null  int64  \n",
      " 6   ipinyouid       614638 non-null  object \n",
      " 7   useragent       614638 non-null  object \n",
      " 8   IP              614638 non-null  object \n",
      " 9   region          614638 non-null  int64  \n",
      " 10  city            614638 non-null  int64  \n",
      " 11  adexchange      614638 non-null  int64  \n",
      " 12  domain          582360 non-null  object \n",
      " 13  url             604063 non-null  object \n",
      " 14  urlid           0 non-null       float64\n",
      " 15  slotid          614638 non-null  object \n",
      " 16  slotwidth       614638 non-null  int64  \n",
      " 17  slotheight      614638 non-null  int64  \n",
      " 18  slotvisibility  614638 non-null  int64  \n",
      " 19  slotformat      614638 non-null  int64  \n",
      " 20  slotprice       614638 non-null  int64  \n",
      " 21  creative        614638 non-null  object \n",
      " 22  bidprice        614638 non-null  int64  \n",
      " 23  payprice        614638 non-null  int64  \n",
      " 24  keypage         614638 non-null  object \n",
      " 25  advertiser      614638 non-null  int64  \n",
      " 26  usertag         519678 non-null  object \n",
      " 27  nclick          614638 non-null  int64  \n",
      " 28  nconversation   614638 non-null  int64  \n",
      "dtypes: float64(1), int64(18), object(10)\n",
      "memory usage: 136.0+ MB\n"
     ]
    }
   ],
   "source": [
    "#'This is the feature description of the test data.'\n",
    "df_bid_test.info()"
   ]
  },
  {
   "cell_type": "markdown",
   "metadata": {},
   "source": [
    "## Explanatory data analysis"
   ]
  },
  {
   "cell_type": "code",
   "execution_count": 9,
   "metadata": {},
   "outputs": [
    {
     "data": {
      "text/plain": [
       "0    3080602\n",
       "1       2454\n",
       "Name: click, dtype: int64"
      ]
     },
     "execution_count": 9,
     "metadata": {},
     "output_type": "execute_result"
    }
   ],
   "source": [
    "# Frequency of clicks\n",
    "df_bid_train.click.value_counts()"
   ]
  },
  {
   "cell_type": "code",
   "execution_count": 10,
   "metadata": {},
   "outputs": [
    {
     "data": {
      "image/png": "[encoded data removed]",
      "text/plain": [
       "<Figure size 432x288 with 1 Axes>"
      ]
     },
     "metadata": {
      "needs_background": "light"
     },
     "output_type": "display_data"
    },
    {
     "data": {
      "image/png": "[encoded data removed]",
      "text/plain": [
       "<Figure size 432x288 with 1 Axes>"
      ]
     },
     "metadata": {
      "needs_background": "light"
     },
     "output_type": "display_data"
    },
    {
     "name": "stdout",
     "output_type": "stream",
     "text": [
      "the impression in region 395 is always lose-impression and the amount of impression in region 395 is:  680\n"
     ]
    }
   ],
   "source": [
    "# amount of impressions bases on regions\n",
    "\n",
    "plt.figure(1)\n",
    "df_bid_train[df_bid_train['click']==1].region.value_counts().sort_index(axis=0,  kind='quicksort').plot(kind='bar') \n",
    "plt.ylabel('amount of clicks')\n",
    "plt.xlabel('region')\n",
    "\n",
    "plt.figure(2)\n",
    "df_bid_train[df_bid_train['click']==0].region.value_counts().sort_index(axis=0,  kind='quicksort').plot(kind='bar') \n",
    "plt.ylabel('amount of impression')\n",
    "plt.xlabel('region')\n",
    "plt.show()\n",
    "\n",
    "# the impression in region 395 is always lose-impression\n",
    "print(\"the impression in region 395 is always lose-impression and the amount of impression in region 395 is: \", len(df_bid_train[(df_bid_train['click']==0) & (df_bid_train['region']==395)]))"
   ]
  },
  {
   "cell_type": "code",
   "execution_count": 11,
   "metadata": {},
   "outputs": [
    {
     "data": {
      "image/png": "[encoded data removed]",
      "text/plain": [
       "<Figure size 432x288 with 1 Axes>"
      ]
     },
     "metadata": {
      "needs_background": "light"
     },
     "output_type": "display_data"
    },
    {
     "data": {
      "image/png": "[encoded data removed]",
      "text/plain": [
       "<Figure size 432x288 with 1 Axes>"
      ]
     },
     "metadata": {
      "needs_background": "light"
     },
     "output_type": "display_data"
    }
   ],
   "source": [
    "# amount of impressions group by hours\n",
    "\n",
    "\n",
    "plt.figure(1)\n",
    "df_bid_train[df_bid_train['click']==1].hour.value_counts().sort_index(axis=0,  kind='quicksort').plot(kind='bar') \n",
    "plt.ylabel('amount of clicks')\n",
    "plt.xlabel('hours')\n",
    "plt.figure(2)\n",
    "df_bid_train[df_bid_train['click']==0].hour.value_counts().sort_index(axis=0,  kind='quicksort').plot(kind='bar') \n",
    "plt.ylabel('amount of impressions')\n",
    "plt.xlabel('hours')\n",
    "\n",
    "plt.show()\n",
    "\n",
    "# the click amount rises and falls among time obviously， for example at 12 ,17 and 21 o'clock, user are more active to click the ads"
   ]
  },
  {
   "cell_type": "code",
   "execution_count": 67,
   "metadata": {},
   "outputs": [
    {
     "name": "stdout",
     "output_type": "stream",
     "text": [
      "the mean payprice for click is:90.9156479217604\n",
      "the mean payprice for unclick is: 68.87521789572298 \n"
     ]
    },
    {
     "data": {
      "image/png": "[encoded data removed]",
      "text/plain": [
       "<Figure size 432x288 with 1 Axes>"
      ]
     },
     "metadata": {
      "needs_background": "light"
     },
     "output_type": "display_data"
    },
    {
     "data": {
      "image/png": "[encoded data removed]",
      "text/plain": [
       "<Figure size 432x288 with 1 Axes>"
      ]
     },
     "metadata": {
      "needs_background": "light"
     },
     "output_type": "display_data"
    },
    {
     "name": "stdout",
     "output_type": "stream",
     "text": [
      "the mean payprice for click is:90.9156479217604\n",
      "the mean payprice for non-click is: 68.87521789572298 \n"
     ]
    }
   ],
   "source": [
    "# distribution of payprice\n",
    "\n",
    "CPC_mean=df_bid_train[df_bid_train['click']==1].payprice.mean()\n",
    "CPM_mean=df_bid_train[df_bid_train['click']==0].payprice.mean()\n",
    "print(\"the mean payprice for click is:{}\\nthe mean payprice for unclick is: {} \".format(CPC_mean,CPM_mean))\n",
    "\n",
    "plt.figure(1)\n",
    "df_bid_train[df_bid_train['click']==1].payprice.plot(kind='box', showfliers=False) \n",
    "\n",
    "plt.figure(2)\n",
    "df_bid_train[df_bid_train['click']==0].payprice.plot(kind='box', showfliers=False) \n",
    "\n",
    "plt.show()\n",
    "# the average costs: CPC (if clicked), CPM (if not clicked) \n",
    "CPC_mean=df_bid_train[df_bid_train['click']==1].payprice.mean()\n",
    "CPM_mean=df_bid_train[df_bid_train['click']==0].payprice.mean()\n",
    "print(\"the mean payprice for click is:{}\\nthe mean payprice for non-click is: {} \".format(CPC_mean,CPM_mean))"
   ]
  },
  {
   "cell_type": "code",
   "execution_count": 116,
   "metadata": {},
   "outputs": [
    {
     "data": {
      "image/png": "[encoded data removed]",
      "text/plain": [
       "<Figure size 720x864 with 2 Axes>"
      ]
     },
     "metadata": {
      "needs_background": "light"
     },
     "output_type": "display_data"
    }
   ],
   "source": [
    "## Data viz for the paper\n",
    "fig, (ax1, ax2) = plt.subplots(2)\n",
    "fig.set_size_inches(10,12)\n",
    "df_bid_train[df_bid_train['click']==1].hour.value_counts().sort_index(axis=0,  kind='quicksort').plot(kind='bar', ax=ax1, position=1, label = 'Train set')\n",
    "df_bid_test[df_bid_test['click']==1].hour.value_counts().sort_index(axis=0,  kind='quicksort').plot(kind='bar', color='orange', ax=ax1, position=0, label = 'Test set')\n",
    "ax1.set_xlabel('Hour')\n",
    "ax1.set_ylabel('Amount of clicks')\n",
    "ax1.legend(loc = 'upper left')\n",
    "\n",
    "ax2.set_xlabel('Prices ranges for ad placements with a click (pay prices) vs. no click')\n",
    "ax2.set_ylabel('Price (RMB)')\n",
    "plt.boxplot([df_bid_train[df_bid_train['click']==0].payprice, df_bid_test[df_bid_test['click']==0].payprice, df_bid_train[df_bid_train['click']==1].payprice, \n",
    "             df_bid_test[df_bid_test['click']==1].payprice], labels = ['Train no click', 'Test no click', 'Train click', 'Test click'])\n",
    "\n",
    "plt.savefig('dataviz.png', transparent = True)"
   ]
  },
  {
   "cell_type": "markdown",
   "metadata": {},
   "source": [
    "## Preprocessing the dataset"
   ]
  },
  {
   "cell_type": "markdown",
   "metadata": {},
   "source": [
    "### Additional variable \"min\" \n",
    "\n",
    "As we mentioned before, each 15 min interval represents a time step in the DRLB framework. Therefore, we extract minute interval with values [\"00\",\"15\",\"30\",\"45\"] from timestamp as an additional variable \"min\". "
   ]
  },
  {
   "cell_type": "code",
   "execution_count": null,
   "metadata": {},
   "outputs": [],
   "source": [
    "# add the min intervals\n",
    "\n",
    "def get_time_interval(data):\n",
    "    time_inv=int(data[10:12])\n",
    "    if time_inv>=0 and time_inv<15:\n",
    "            return (\"00\")\n",
    "    elif time_inv >= 15 and time_inv < 30:\n",
    "            return (\"15\")\n",
    "    elif time_inv >= 30 and time_inv < 45:\n",
    "            return (\"30\")\n",
    "    elif time_inv >= 45 and time_inv <=60:\n",
    "            return (\"45\")\n",
    "    else:\n",
    "            return(None)\n",
    "\n",
    "if 'min' in df_bid_train.columns:\n",
    "    print(\"min already exists\")\n",
    "    pass\n",
    "else:\n",
    "    df_bid_train[\"timestamp\"]=df_bid_train[\"timestamp\"].apply(str)\n",
    "    min_intervals = df_bid_train.apply(lambda row : get_time_interval(row['timestamp']), axis = 1)\n",
    "    df_bid_train.insert(3, \"min\", min_intervals) # insert the new column after the 'hour' column\n",
    "    # save the updated dataset\n",
    "    # df_bid_train.to_csv('data/ipinyou/1458/train.log.txt', sep=\"\\t\", header=True, index=False)"
   ]
  },
  {
   "cell_type": "markdown",
   "metadata": {},
   "source": [
    " ### Logistic regression for CTR\n",
    " \n",
    " The following briefly explains the preprocessing of the train data to obtain the predicted CTRs which is based on the click of the train set as our target variable.   \n",
    "\n",
    "To estimate the CTR and therefore to predict the probability of a user to click on an ad impression, we apply the logistic regression model as our prediction model. In the logistic regression models most of our features are dummies. Thus, most of these features we converted into categorical features first and then transformed them into dummy variables.\n",
    "\n",
    "Also, we briefly want to highlight some of the (dummy) feature transformations more in detail. From user agent we exctracted the browser and operation systems. User tags are processed to extract the tag list of each user. According to Zhang et al. (2014) the weekday and hour feature are extracted from the timestamps. As mentioned earlier, we additionally extracted time intervals for every quarter points of an hour in minutes. Furthermore, region, city, ad slot width, height, visibility, format, ad exchange are processed in the logistic regression model as dummy variables and the ad slot floor price as numeric. In total, we have 312 binary features for the logistic regression model.   \n",
    "Overall, we included features, which are quite generic and not fixed or unique values such as IDs, URLs or paying price.   \n",
    "\n",
    "In the logistic regression model the default of L2 regularization is used. Also, we want to emphasize that a significant imbalance of 0 (no clicks) and 1 (clicks) values exists in the target variable. Hence, we balanced the minority class 1 by using the class_weight parameter of the logistic regression function."
   ]
  },
  {
   "cell_type": "code",
   "execution_count": 20,
   "metadata": {},
   "outputs": [
    {
     "name": "stdout",
     "output_type": "stream",
     "text": [
      "pCTR AUC in the train set:  0.9452306887829061 \n",
      "pCTR AUC in the test set:  0.9735301800409389\n"
     ]
    }
   ],
   "source": [
    "from sklearn.metrics import roc_auc_score\n",
    "print(\"pCTR AUC in the train set: \", roc_auc_score(df_bid_train['click'], df_bid_train['pCTR']))\n",
    "print(\"pCTR AUC in the test set: \", roc_auc_score(df_bid_test['click'], df_bid_test['pCTR']))"
   ]
  },
  {
   "cell_type": "code",
   "execution_count": 115,
   "metadata": {},
   "outputs": [
    {
     "data": {
      "image/png": "[encoded data removed]",
      "text/plain": [
       "<Figure size 792x504 with 1 Axes>"
      ]
     },
     "metadata": {
      "needs_background": "light"
     },
     "output_type": "display_data"
    }
   ],
   "source": [
    "fpr_train, tpr_train, _ = sklearn.metrics.roc_curve(df_bid_train['click'], df_bid_train['pCTR'])\n",
    "auc_train = sklearn.metrics.roc_auc_score(df_bid_train['click'], df_bid_train['pCTR'])\n",
    "\n",
    "fpr_test, tpr_test, _ = sklearn.metrics.roc_curve(df_bid_test['click'], df_bid_test['pCTR'])\n",
    "auc_test = sklearn.metrics.roc_auc_score(df_bid_test['click'], df_bid_test['pCTR'])\n",
    "\n",
    "plt.figure(figsize=(11,7))\n",
    "plt.title('Logistic Regression ROC AUC curves')\n",
    "plt.plot(fpr_train,tpr_train,label = 'Train AUC = %0.3f' % auc_train)\n",
    "plt.plot(fpr_test,tpr_test,label = ' Test AUC = %0.3f' % auc_test)\n",
    "plt.legend(loc = 'lower right')\n",
    "plt.plot([0, 1], [0, 1],'r--')\n",
    "plt.ylabel('True Positive Rate')\n",
    "plt.xlabel('False Positive Rate')\n",
    "plt.savefig('rocauc.png', transparent = True)\n",
    "plt.show()"
   ]
  },
  {
   "cell_type": "markdown",
   "metadata": {},
   "source": [
    "Surprisingly, our prediction model yields a very high prediction accuracy, and especially interesting is the fact the AUC in the test set is higher than in the train set. We double-checked our logistic regression and implementation and couldnt't find any data leakage from the test set or the target into the fitted model.  "
   ]
  },
  {
   "cell_type": "code",
   "execution_count": 6,
   "metadata": {},
   "outputs": [
    {
     "name": "stderr",
     "output_type": "stream",
     "text": [
      "/home/a2/.virtualenvs/sis/lib/python3.8/site-packages/sklearn/base.py:310: UserWarning: Trying to unpickle estimator LogisticRegression from version 0.23.2 when using version 0.24.1. This might lead to breaking code or invalid results. Use at your own risk.\n",
      "  warnings.warn(\n"
     ]
    }
   ],
   "source": [
    "# Load the trained model\n",
    "import joblib\n",
    "with open(\"src/rtb_agent/logreg.sav\", 'rb') as file:\n",
    "    pickled_lr = joblib.load(file)"
   ]
  },
  {
   "cell_type": "code",
   "execution_count": 86,
   "metadata": {},
   "outputs": [],
   "source": [
    "# Load the dummified dataset\n",
    "import pandas as pd \n",
    "dummy_data = pd.read_csv(\"data/ipinyou/dummified_train_test.txt\", sep=\"\\t\", nrows=1)\n",
    "dummy_data = dummy_data.drop(['click','slotprice'], axis=1)"
   ]
  },
  {
   "cell_type": "code",
   "execution_count": 91,
   "metadata": {},
   "outputs": [
    {
     "name": "stdout",
     "output_type": "stream",
     "text": [
      "Features that affect the probability of a user not clicking:\n"
     ]
    },
    {
     "data": {
      "text/plain": [
       "[(-6.342470416631291, 'slotwidth_1000'),\n",
       " (-3.9951968449076447, 'city_135'),\n",
       " (-3.8586070181901357, 'minute_00'),\n",
       " (-3.7516320591358325, 'city_194'),\n",
       " (-3.480472399854429, 'city_112')]"
      ]
     },
     "execution_count": 91,
     "metadata": {},
     "output_type": "execute_result"
    }
   ],
   "source": [
    "print(\"Features that affect the probability of a user not clicking the most:\")\n",
    "sorted(zip(pickled_lr.coef_[0], dummy_data.columns.values))[:5]"
   ]
  },
  {
   "cell_type": "code",
   "execution_count": 92,
   "metadata": {},
   "outputs": [
    {
     "name": "stdout",
     "output_type": "stream",
     "text": [
      "Features that affect the probability of a user clicking the most:\n"
     ]
    },
    {
     "data": {
      "text/plain": [
       "[(3.9160955628338168, 'city_189'),\n",
       " (4.005082093070865, 'city_178'),\n",
       " (4.249181598379129, 'city_323'),\n",
       " (4.3659330468708, 'city_383'),\n",
       " (10.496888475567705, 'slotheight_60')]"
      ]
     },
     "execution_count": 92,
     "metadata": {},
     "output_type": "execute_result"
    }
   ],
   "source": [
    "print(\"Features that affect the probability of a user clicking the most:\")\n",
    "sorted(zip(pickled_lr.coef_[0], dummy_data.columns.values))[-5:]"
   ]
  },
  {
   "cell_type": "markdown",
   "metadata": {},
   "source": [
    "Taking a closer look at the feature importance in our trained logistic regression model reveals that the probability of a user clicking on an ad in this specific advertisement campaign is influenced the most by the specific location of a user, to whom an ad is shown, as well as by 'physical' advertisement attributes like the specific height or width of an ad placement."
   ]
  },
  {
   "cell_type": "markdown",
   "metadata": {
    "pycharm": {
     "name": "#%% md\n"
    }
   },
   "source": [
    "# 5. DRLB Implementation"
   ]
  },
  {
   "cell_type": "markdown",
   "metadata": {},
   "source": [
    "Due to the fact that the DRLB implementation was not made public by the authors, we had to code it on our own. Although we've found [one implementation](https://github.com/venkatacrc/Budget_Constrained_Bidding) of DRLB on Github, it is missing some functionality that was introduced in the paper, and, to be honest, has some parts that are flat out wrongly implemented. Therefore, even though this code was very useful as a skeleton to base our implementation on, we've added a lot of fixes and improvements to it.\n",
    "\n",
    "Before delving deeper into the DRLB implementation, it's important to keep the equation that is used to calculate a bid for a given ad placement in our setup:\n",
    "\n",
    "$$ b{_i} = \\frac{v{_i}}{\\lambda}. $$\n",
    "\n",
    "There are 3 main moving parts in the DRLB framework that are important to keep in mind:\n",
    "- Deep-Q-Network (DQN): an agent that adjusts the $\\lambda$ parameter\n",
    "- RewardNet: a DNN that learns the optimal reward for the DQN, in place of the instant reward from the environment\n",
    "- Environment: a simulated auction environment"
   ]
  },
  {
   "cell_type": "markdown",
   "metadata": {},
   "source": [
    "<img src=\"img/DRLB_illustration.png\" width=1280 height=720 />\n",
    "\n",
    "<p align=\"center\">\n",
    "Fig. 7: Illustration of the data flow inside the DRLB framework\n",
    "<p>  "
   ]
  },
  {
   "cell_type": "markdown",
   "metadata": {},
   "source": [
    "The set of input variables for the DQN is defined as follows:"
   ]
  },
  {
   "cell_type": "code",
   "execution_count": null,
   "metadata": {},
   "outputs": [],
   "source": [
    "def _get_state(self):\n",
    "    \"\"\"\n",
    "    Returns the state that will be used as input in the DQN\n",
    "    \"\"\"\n",
    "    return np.asarray([self.t_step, # 1. Current time step\n",
    "            self.rem_budget, # 2. the remaining budget at time step t\n",
    "            self.ROL, # 3. The number of Lambda regulation opportunities left in the episode (amount of time steps left)\n",
    "            self.BCR, # 4. Budget consumption rate: (Bt - Bt-1)/Bt\n",
    "            self.CPM, # 5. Cost per mille of impressions between t-1 and t: (costs at t/impressions at t)*1000\n",
    "            self.WR, # 6. Auction win rate at step t: (won impressions at t)/(total bidding opportunities at t)\n",
    "            self.rewards_prev_t]) # 7. Total clicks on the ad placements we've won at t-1"
   ]
  },
  {
   "cell_type": "markdown",
   "metadata": {},
   "source": [
    "## DQN"
   ]
  },
  {
   "cell_type": "code",
   "execution_count": null,
   "metadata": {},
   "outputs": [],
   "source": [
    "BUFFER_SIZE = int(1e5)  # replay buffer size\n",
    "BATCH_SIZE = 32         # minibatch size\n",
    "GAMMA = 1.0             # discount factor\n",
    "LR = 1e-3               # learning rate \n",
    "C = 100                 # how often to update the network\n",
    "\n",
    "class DQN():\n",
    "    \"\"\"Interacts with and learns from the environment.\"\"\"\n",
    "    \n",
    "    def __init__(self, state_size, action_size):\n",
    "\n",
    "        # Q-Network\n",
    "        self.qnetwork_local = Network(state_size, action_size).to(device)\n",
    "        self.qnetwork_target = Network(state_size, action_size).to(device)\n",
    "        self.optimizer = optim.Adam(self.qnetwork_local.parameters(), lr=LR)\n",
    "        self.criterion = nn.MSELoss()\n",
    "\n",
    "        # Replay memory\n",
    "        self.memory = ReplayBuffer(BUFFER_SIZE, BATCH_SIZE, 0)"
   ]
  },
  {
   "cell_type": "markdown",
   "metadata": {},
   "source": [
    "The reason for using two differnet instantiations of the Q network simultaneously was explained by Minh et al. (2015), who introduced the DQN itself. Every $C$ updates the `qnetwork_local` is cloned to obtain `qnetwork_target`, which is used for generating the Q-learning targets $y$ for the following $C$ updates to `qnetwork_local`. This makes the algorithm more stable, since generating the targets using an older set of parameters adds a delay between the time an update to `qnetwork_local` is made and the time the update affects the targets $y$, making divergence or oscillations of the learned policy much more unlikely. The input to the `qnetwork_local` is the current state $s_t$, while the `qnetwork_target` receives state $s_{t+1}$ as input.\n",
    "\n",
    "To get an intuitive understanding for why the targets for predictions of the DQN for $s_t$ are predictions of (almost) the same DQN for $s_{t+1}$, think about it as a way to peek into the future using all available resources at the current time step. Maybe knowing how the DQN performs an update of its parameters will aid in understanding this idea a bit better:"
   ]
  },
  {
   "cell_type": "code",
   "execution_count": null,
   "metadata": {},
   "outputs": [],
   "source": [
    "def learn(self, experiences, gamma, terminal):\n",
    "    \"\"\"Update value parameters using given batch of experience tuples.\n",
    "    \n",
    "        experiences (Tuple[torch.Tensor]): tuple of (s, a, r, s') tuples \n",
    "        gamma (float): discount factor\n",
    "    \"\"\"\n",
    "    states, actions, rewards, next_states = experiences\n",
    "\n",
    "    if terminal == 1: # if the next state is the last one in the episode\n",
    "        y = rewards\n",
    "    else:\n",
    "        y = rewards + gamma * self.qnetwork_target(next_states).max(1, keepdim=True)[0]\n",
    "\n",
    "    # Get Q values from the local model\n",
    "    Q_local = self.qnetwork_local(states).gather(1, actions)\n",
    "\n",
    "    # Compute loss\n",
    "    loss = self.criterion(Q_local, y)\n",
    "    print(\"DQN loss = {}\".format(loss))\n",
    "    # Grad descent\n",
    "    self.optimizer.zero_grad()\n",
    "    loss.backward()\n",
    "    self.optimizer.step()\n",
    "    self.loss = loss.item()\n",
    "    # Every C steps reset Q target = Q (hard copy)\n",
    "    if ((self.t_step + 1) % C) == 0:\n",
    "        for target_param, local_param in zip(self.qnetwork_target.parameters(), self.qnetwork_local.parameters()):\n",
    "            target_param.data.copy_(local_param.data)"
   ]
  },
  {
   "cell_type": "markdown",
   "metadata": {},
   "source": [
    "Every $C=100$ steps the DQN samples a mini-batch containing 32 of each (corresponding to each other) $s_t$, $s_{t+1}$, $r_t$ and $a_t$ from its replay memory (initialzied above with maximum length of 100 000 records/states). So, the action of DQN in state $s_t$ is evaluated based on the action that it would take at the next step $s_{t+1}$, based on the reward for the action at the current step. And this chain can be unfolded for each time step, except for the last one in the episode. \n",
    "\n",
    "The gamma parameter is always set to 1 in DRLB, since the optimization goal of the budget constrained bidding problem is to maximize the total reward value under the cost constraint regardless of the reward time (i.e. we don't want to punish getting clicks on the won ad placements later in the episode)."
   ]
  },
  {
   "cell_type": "markdown",
   "metadata": {},
   "source": [
    "## Exploration vs. Exploitation during training"
   ]
  },
  {
   "cell_type": "markdown",
   "metadata": {},
   "source": [
    "- Adaptive $\\epsilon$-greedy policy:\n",
    "\n",
    "The $\\epsilon$-greedy policy controls the proportion of exploration and exploitation, i.e. how often the agent explores taking new actions vs. exploiting the learned behavior. Based on this policy the agent chooses action (adjusts the $\\lambda$ parameter):\n",
    "\n",
    "$$ a^* = argmax_a Q(s,a) $$\n",
    "\n",
    "with probability $1 -\\epsilon$ and with probability $\\epsilon$ takes a random action. The training starts with an initial $\\epsilon=0.9$, which is gradually lowered throughout the training process with:\n",
    "\n",
    "$$max(0.95 − s_{\\epsilon} × t_{global}, 0.05),$$\n",
    "\n",
    "where $s_{\\epsilon}$ being the annealing parameter set to 0.00002, as suggested by Wu et al. (2018).\n",
    "\n",
    "- Distribution of the Q values\n",
    "\n",
    "The unimodality check of the action-value distribution $Q(s_t, a_t)$, was proposed by the authors of DRLB - they state that whenever the distribution is not unimodal, the current estimation of Q is abnormal and the $\\epsilon$ should be increased to encourage more explorations under this state. The unimodality check is done using a simple heuristic test."
   ]
  },
  {
   "cell_type": "markdown",
   "metadata": {},
   "source": [
    "<img src=\"img/Q_distribution.png\" width=1280 height=720 />\n",
    "\n",
    "<p align=\"center\">\n",
    "Fig. 8: Distribution examples of the Q values during training. (a) Normal distribution. (b) Abnormal distribution. (Wu et al., 2018)\n",
    "<p>  "
   ]
  },
  {
   "cell_type": "markdown",
   "metadata": {},
   "source": [
    "## Lambda parameter at the beginning of each episode"
   ]
  },
  {
   "cell_type": "markdown",
   "metadata": {},
   "source": [
    "As specified by Wu et al. (2018), $\\lambda_0$ has to be set at a certain value in the beginning of each episode. They propose to set $\\lambda_0$ to $\\lambda^*_{prev}$ by solving the bidding problem as a knapsack problem, using the greedy approximation algorithm introduced by Dantzig (1957), and argue that this should suffice for optimal results."
   ]
  },
  {
   "cell_type": "code",
   "execution_count": 2,
   "metadata": {},
   "outputs": [],
   "source": [
    "def calc_greedy(items, budget_limit):\n",
    "    # Code implementation based on: https://bitbucket.org/trebsirk/algorithms/src/master/knapsack.py\n",
    "    bids = []\n",
    "    spending = 0\n",
    "    ctr = 0\n",
    "    items_sorted = sorted(items, key=itemgetter(2), reverse=True) # sort bid requests by pCTR/payprice (=value)\n",
    "    while len(items_sorted) > 0:\n",
    "        item = items_sorted.pop()\n",
    "        if item[0] + spending <= budget_limit: # sequentially add the ad placements, if we have enough budget\n",
    "            bids.append(item)\n",
    "            spending += bids[-1][1]\n",
    "            ctr += bids[-1][0]\n",
    "        else:\n",
    "            break\n",
    "    ctrs = np.array(bids)[:,0]\n",
    "    costs = np.array(bids)[:,1]\n",
    "    # Take the max lambda to be more conservative at the beginning of a time step\n",
    "    opt_lambda = np.max(np.divide(ctrs, costs))\n",
    "    return opt_lambda"
   ]
  },
  {
   "cell_type": "markdown",
   "metadata": {},
   "source": [
    "# 6. Results"
   ]
  },
  {
   "cell_type": "markdown",
   "metadata": {},
   "source": [
    "## Baseline: Random Bidding"
   ]
  },
  {
   "cell_type": "markdown",
   "metadata": {},
   "source": [
    "As a baseline for our DRLB implementation we decided to first use just simple random uniform bidding. As a budget constraint Cai et al. (2017) provide the following calculation:\n",
    "\n",
    "$$B = CPM_{train} \\times 10^{-3} \\times T \\times c_0$$\n",
    "\n",
    "where $CPM_{train}$ is the cost per mille of impressions in the training data, $T$ is the amount of steps in each episode and $c_0$ acts as the budget constraint parameter. Following their work, we set multiple values of $c_0$ = 1/32, 1/16, 1/8, 1/4, 1/2."
   ]
  },
  {
   "cell_type": "code",
   "execution_count": 1,
   "metadata": {},
   "outputs": [
    {
     "data": {
      "text/html": [
       "<div>\n",
       "<style scoped>\n",
       "    .dataframe tbody tr th:only-of-type {\n",
       "        vertical-align: middle;\n",
       "    }\n",
       "\n",
       "    .dataframe tbody tr th {\n",
       "        vertical-align: top;\n",
       "    }\n",
       "\n",
       "    .dataframe thead th {\n",
       "        text-align: right;\n",
       "    }\n",
       "</style>\n",
       "<table border=\"1\" class=\"dataframe\">\n",
       "  <thead>\n",
       "    <tr style=\"text-align: right;\">\n",
       "      <th></th>\n",
       "      <th>bugdet</th>\n",
       "      <th>portion</th>\n",
       "    </tr>\n",
       "  </thead>\n",
       "  <tbody>\n",
       "    <tr>\n",
       "      <th>0</th>\n",
       "      <td>3307.0</td>\n",
       "      <td>1/2</td>\n",
       "    </tr>\n",
       "    <tr>\n",
       "      <th>1</th>\n",
       "      <td>1653.0</td>\n",
       "      <td>1/4</td>\n",
       "    </tr>\n",
       "    <tr>\n",
       "      <th>2</th>\n",
       "      <td>827.0</td>\n",
       "      <td>1/8</td>\n",
       "    </tr>\n",
       "    <tr>\n",
       "      <th>3</th>\n",
       "      <td>413.0</td>\n",
       "      <td>1/16</td>\n",
       "    </tr>\n",
       "    <tr>\n",
       "      <th>4</th>\n",
       "      <td>207.0</td>\n",
       "      <td>1/32</td>\n",
       "    </tr>\n",
       "  </tbody>\n",
       "</table>\n",
       "</div>"
      ],
      "text/plain": [
       "   bugdet portion\n",
       "0  3307.0     1/2\n",
       "1  1653.0     1/4\n",
       "2   827.0     1/8\n",
       "3   413.0    1/16\n",
       "4   207.0    1/32"
      ]
     },
     "execution_count": 1,
     "metadata": {},
     "output_type": "execute_result"
    }
   ],
   "source": [
    "#load the datasets\n",
    "import pandas as pd\n",
    "bid_requests_train = pd.read_csv('data/ipinyou/1458/train.log.txt', sep=\"\\t\")\n",
    "bid_requests_test = pd.read_csv('data/ipinyou/1458/test.log.txt', sep=\"\\t\")\n",
    "\n",
    "# define budget for each episode according to (Cai et al., 2017)\n",
    "CPM_train = 1000 * (bid_requests_train.payprice.sum()/len(bid_requests_train))\n",
    "budget = CPM_train * (10**-3) * 96\n",
    "episode_budgets = [budget/2,budget/4,budget/8,budget/16,budget/32]\n",
    "bid_random = bid_requests_test\n",
    "bid_budget = pd.DataFrame()\n",
    "bid_budget['bugdet']=episode_budgets\n",
    "bid_budget['portion']=['1/2','1/4','1/8','1/16','1/32']\n",
    "bid_budget.round()"
   ]
  },
  {
   "cell_type": "code",
   "execution_count": 2,
   "metadata": {},
   "outputs": [
    {
     "name": "stdout",
     "output_type": "stream",
     "text": [
      "Episode result with clicks=0, impressions=58, budget left=0.852541115049462\n",
      "Episode result with clicks=0, impressions=52, budget left=1.852541115049462\n",
      "Episode result with clicks=0, impressions=56, budget left=0.852541115049462\n",
      "Episode result with clicks=0, impressions=27, budget left=2.426270557524731\n",
      "Episode result with clicks=0, impressions=27, budget left=0.426270557524731\n",
      "Episode result with clicks=0, impressions=20, budget left=0.426270557524731\n",
      "Episode result with clicks=0, impressions=16, budget left=1.7131352787623655\n",
      "Episode result with clicks=0, impressions=12, budget left=0.7131352787623655\n",
      "Episode result with clicks=0, impressions=10, budget left=0.7131352787623655\n",
      "Episode result with clicks=0, impressions=5, budget left=0.35656763938118274\n",
      "Episode result with clicks=0, impressions=9, budget left=0.35656763938118274\n",
      "Episode result with clicks=0, impressions=10, budget left=0.35656763938118274\n",
      "Episode result with clicks=0, impressions=7, budget left=2.6782838196905914\n",
      "Episode result with clicks=0, impressions=6, budget left=2.6782838196905914\n",
      "Episode result with clicks=0, impressions=7, budget left=0.6782838196905914\n"
     ]
    }
   ],
   "source": [
    "#Random Bidding\n",
    "%run -i 'src/rtb_agent/evaluate_randbid.py'"
   ]
  },
  {
   "cell_type": "code",
   "execution_count": 4,
   "metadata": {},
   "outputs": [
    {
     "name": "stdout",
     "output_type": "stream",
     "text": [
      "Results of random bidding on the test set:\n"
     ]
    },
    {
     "data": {
      "text/html": [
       "<div>\n",
       "<style scoped>\n",
       "    .dataframe tbody tr th:only-of-type {\n",
       "        vertical-align: middle;\n",
       "    }\n",
       "\n",
       "    .dataframe tbody tr th {\n",
       "        vertical-align: top;\n",
       "    }\n",
       "\n",
       "    .dataframe thead tr th {\n",
       "        text-align: left;\n",
       "    }\n",
       "\n",
       "    .dataframe thead tr:last-of-type th {\n",
       "        text-align: right;\n",
       "    }\n",
       "</style>\n",
       "<table border=\"1\" class=\"dataframe\">\n",
       "  <thead>\n",
       "    <tr>\n",
       "      <th></th>\n",
       "      <th></th>\n",
       "      <th colspan=\"3\" halign=\"left\">random baseline</th>\n",
       "    </tr>\n",
       "    <tr>\n",
       "      <th></th>\n",
       "      <th></th>\n",
       "      <th>day 8</th>\n",
       "      <th>day 9</th>\n",
       "      <th>day 10</th>\n",
       "    </tr>\n",
       "    <tr>\n",
       "      <th>reward</th>\n",
       "      <th>portion</th>\n",
       "      <th></th>\n",
       "      <th></th>\n",
       "      <th></th>\n",
       "    </tr>\n",
       "  </thead>\n",
       "  <tbody>\n",
       "    <tr>\n",
       "      <th rowspan=\"5\" valign=\"top\">clicks</th>\n",
       "      <th>1/2</th>\n",
       "      <td>0</td>\n",
       "      <td>0</td>\n",
       "      <td>0</td>\n",
       "    </tr>\n",
       "    <tr>\n",
       "      <th>1/4</th>\n",
       "      <td>0</td>\n",
       "      <td>0</td>\n",
       "      <td>0</td>\n",
       "    </tr>\n",
       "    <tr>\n",
       "      <th>1/8</th>\n",
       "      <td>0</td>\n",
       "      <td>0</td>\n",
       "      <td>0</td>\n",
       "    </tr>\n",
       "    <tr>\n",
       "      <th>1/16</th>\n",
       "      <td>0</td>\n",
       "      <td>0</td>\n",
       "      <td>0</td>\n",
       "    </tr>\n",
       "    <tr>\n",
       "      <th>1/32</th>\n",
       "      <td>0</td>\n",
       "      <td>0</td>\n",
       "      <td>0</td>\n",
       "    </tr>\n",
       "    <tr>\n",
       "      <th rowspan=\"5\" valign=\"top\">impression</th>\n",
       "      <th>1/2</th>\n",
       "      <td>61</td>\n",
       "      <td>59</td>\n",
       "      <td>63</td>\n",
       "    </tr>\n",
       "    <tr>\n",
       "      <th>1/4</th>\n",
       "      <td>32</td>\n",
       "      <td>30</td>\n",
       "      <td>29</td>\n",
       "    </tr>\n",
       "    <tr>\n",
       "      <th>1/8</th>\n",
       "      <td>9</td>\n",
       "      <td>14</td>\n",
       "      <td>15</td>\n",
       "    </tr>\n",
       "    <tr>\n",
       "      <th>1/16</th>\n",
       "      <td>7</td>\n",
       "      <td>6</td>\n",
       "      <td>5</td>\n",
       "    </tr>\n",
       "    <tr>\n",
       "      <th>1/32</th>\n",
       "      <td>3</td>\n",
       "      <td>4</td>\n",
       "      <td>3</td>\n",
       "    </tr>\n",
       "  </tbody>\n",
       "</table>\n",
       "</div>"
      ],
      "text/plain": [
       "                   random baseline             \n",
       "                             day 8 day 9 day 10\n",
       "reward     portion                             \n",
       "clicks     1/2                   0     0      0\n",
       "           1/4                   0     0      0\n",
       "           1/8                   0     0      0\n",
       "           1/16                  0     0      0\n",
       "           1/32                  0     0      0\n",
       "impression 1/2                  61    59     63\n",
       "           1/4                  32    30     29\n",
       "           1/8                   9    14     15\n",
       "           1/16                  7     6      5\n",
       "           1/32                  3     4      3"
      ]
     },
     "execution_count": 4,
     "metadata": {},
     "output_type": "execute_result"
    }
   ],
   "source": [
    "rand_clicks = []\n",
    "rand_imps = []\n",
    "for i in range (4,7):\n",
    "    for j in range(1,6):\n",
    "        rand_clicks.append(df[(df['wins'] == j) & (df['day'] == i)]['click'].sum())\n",
    "        rand_imps.append(len(df[(df['wins'] == j) & (df['day'] == i)]))\n",
    "\n",
    "# Display the results of random bidding\n",
    "iterables=[['clicks','impression'],['1/2','1/4','1/8','1/16','1/32']]\n",
    "arrays=pd.MultiIndex.from_product(iterables, names=['reward', 'portion'])\n",
    "a=pd.Series(rand_clicks[:5] + rand_imps[:5])\n",
    "b=pd.Series(rand_clicks[5:10] + rand_imps[5:10])\n",
    "c=pd.Series(rand_clicks[10:] + rand_imps[10:])\n",
    "display=pd.DataFrame(pd.concat([a,b,c],axis=1).values, index=arrays)\n",
    "display.columns=pd.MultiIndex.from_tuples([(\"random baseline\", \"day 8\"), (\"random baseline\", \"day 9\"), (\"random baseline\", \"day 10\")])\n",
    "print(\"Results of random bidding on the test set:\")\n",
    "display"
   ]
  },
  {
   "cell_type": "markdown",
   "metadata": {},
   "source": [
    "## Performance of the DRLB"
   ]
  },
  {
   "cell_type": "markdown",
   "metadata": {},
   "source": [
    "We've trained the DRLB for approx. 200.000 time steps. Wu et al. (2018) suggested at least 125.000 and ideally 250.000 time steps. Let's take a look at how the trained model bids on the test set."
   ]
  },
  {
   "cell_type": "code",
   "execution_count": 1,
   "metadata": {},
   "outputs": [
    {
     "name": "stdout",
     "output_type": "stream",
     "text": [
      "Episode Result with Step=95 Budget=3306 Spend=3306 impressions=45 clicks=0\n",
      "Episode Result with Step=189 Budget=3306 Spend=3306 impressions=48 clicks=0\n",
      "Episode Result with Step=283 Budget=3306.8525411150495 Spend=3306 impressions=37 clicks=0\n",
      "Episode Result with Step=95 Budget=1653 Spend=1653 impressions=24 clicks=0\n",
      "Episode Result with Step=189 Budget=1653 Spend=1653 impressions=23 clicks=0\n",
      "Episode Result with Step=283 Budget=1653.4262705575247 Spend=1653 impressions=18 clicks=0\n",
      "Episode Result with Step=95 Budget=826 Spend=826 impressions=15 clicks=0\n",
      "Episode Result with Step=189 Budget=826 Spend=826 impressions=11 clicks=0\n",
      "Episode Result with Step=283 Budget=826.7131352787624 Spend=826 impressions=11 clicks=0\n",
      "Episode Result with Step=95 Budget=413 Spend=413 impressions=5 clicks=0\n",
      "Episode Result with Step=189 Budget=413 Spend=412 impressions=5 clicks=0\n",
      "Episode Result with Step=283 Budget=413.3565676393812 Spend=413 impressions=10 clicks=0\n",
      "Episode Result with Step=95 Budget=206 Spend=206 impressions=4 clicks=0\n",
      "Episode Result with Step=189 Budget=206 Spend=204 impressions=6 clicks=0\n",
      "Episode Result with Step=283 Budget=206.6782838196906 Spend=206 impressions=8 clicks=0\n"
     ]
    }
   ],
   "source": [
    "%run -i 'src/rtb_agent/evaluate_init.py'"
   ]
  },
  {
   "cell_type": "markdown",
   "metadata": {},
   "source": [
    "Unfortunately, the performance of the DRLB is unsatisfactory to say the least. Basically the agent spends all its money on the first handful of ad placements that it sees (and obviously wins them). The fact that we've trained the model for approx. 200.000 time steps (Wu et al. suggested at least 125.000 and ideally 250.000) tells us that the subpar results most likely stem not from the fact that the model wasn't trained long enough, but rather from some other drawback of the model."
   ]
  },
  {
   "cell_type": "markdown",
   "metadata": {},
   "source": [
    "<img src=\"img/drlb_results.png\" width=360 height=120 />\n",
    "\n",
    "<p align=\"center\">\n",
    "Fig. 9: DRLB preformance results achieved by Wu et al. (2018)\n",
    "<p>  "
   ]
  },
  {
   "cell_type": "code",
   "execution_count": 28,
   "metadata": {},
   "outputs": [
    {
     "data": {
      "text/plain": [
       "0    614123\n",
       "1       515\n",
       "Name: click, dtype: int64"
      ]
     },
     "execution_count": 28,
     "metadata": {},
     "output_type": "execute_result"
    }
   ],
   "source": [
    "bid_requests_test.click.value_counts()"
   ]
  },
  {
   "cell_type": "markdown",
   "metadata": {},
   "source": [
    "Our results are not consistent with the results that were achieved by the authors of the DRLB framework, as shown in Figure 9. They were able to get more than 90% of the click in the test set. Therefore we decided to find out what could be the reason for our subpar results.\n",
    "\n",
    "As a reminder, at the beginning of each episode the $\\lambda_0$ parameter is set as the result of solving the knapsack problem of the previouis episode with the greedy aproximation algorithm. Even by taking the highest lambda produced by that algorithm (which leads to lower bids), that lambda still produces much higher bids than the market price on a given ad placement, which leads to a very high spending in the first time step.\n",
    "\n",
    "To analyze this further, taking a look at the training history is necessary."
   ]
  },
  {
   "cell_type": "code",
   "execution_count": 12,
   "metadata": {},
   "outputs": [
    {
     "data": {
      "text/html": [
       "<div>\n",
       "<style scoped>\n",
       "    .dataframe tbody tr th:only-of-type {\n",
       "        vertical-align: middle;\n",
       "    }\n",
       "\n",
       "    .dataframe tbody tr th {\n",
       "        vertical-align: top;\n",
       "    }\n",
       "\n",
       "    .dataframe thead th {\n",
       "        text-align: right;\n",
       "    }\n",
       "</style>\n",
       "<table border=\"1\" class=\"dataframe\">\n",
       "  <thead>\n",
       "    <tr style=\"text-align: right;\">\n",
       "      <th></th>\n",
       "      <th>global_T</th>\n",
       "      <th>rem_budget</th>\n",
       "      <th>ctl_lambda</th>\n",
       "      <th>eps</th>\n",
       "      <th>dqn_action</th>\n",
       "      <th>dqn_agent_loss</th>\n",
       "      <th>rnet_r</th>\n",
       "      <th>reward_net_loss</th>\n",
       "    </tr>\n",
       "  </thead>\n",
       "  <tbody>\n",
       "    <tr>\n",
       "      <th>0</th>\n",
       "      <td>196109</td>\n",
       "      <td>4630614.86</td>\n",
       "      <td>0.000683</td>\n",
       "      <td>0.05</td>\n",
       "      <td>5</td>\n",
       "      <td>7.341998e+06</td>\n",
       "      <td>25.252375</td>\n",
       "      <td>2.466341</td>\n",
       "    </tr>\n",
       "    <tr>\n",
       "      <th>1</th>\n",
       "      <td>196110</td>\n",
       "      <td>3654836.63</td>\n",
       "      <td>0.000738</td>\n",
       "      <td>0.05</td>\n",
       "      <td>6</td>\n",
       "      <td>1.437010e+05</td>\n",
       "      <td>20.194681</td>\n",
       "      <td>0.223770</td>\n",
       "    </tr>\n",
       "    <tr>\n",
       "      <th>2</th>\n",
       "      <td>196111</td>\n",
       "      <td>3240797.59</td>\n",
       "      <td>0.000797</td>\n",
       "      <td>0.05</td>\n",
       "      <td>6</td>\n",
       "      <td>1.188465e+04</td>\n",
       "      <td>20.194698</td>\n",
       "      <td>0.796758</td>\n",
       "    </tr>\n",
       "    <tr>\n",
       "      <th>3</th>\n",
       "      <td>196112</td>\n",
       "      <td>2710508.32</td>\n",
       "      <td>0.000860</td>\n",
       "      <td>0.05</td>\n",
       "      <td>6</td>\n",
       "      <td>1.085120e+08</td>\n",
       "      <td>20.200081</td>\n",
       "      <td>3.149099</td>\n",
       "    </tr>\n",
       "    <tr>\n",
       "      <th>4</th>\n",
       "      <td>196113</td>\n",
       "      <td>2246655.13</td>\n",
       "      <td>0.000886</td>\n",
       "      <td>0.05</td>\n",
       "      <td>5</td>\n",
       "      <td>4.880028e+06</td>\n",
       "      <td>20.217422</td>\n",
       "      <td>2.191170</td>\n",
       "    </tr>\n",
       "    <tr>\n",
       "      <th>...</th>\n",
       "      <td>...</td>\n",
       "      <td>...</td>\n",
       "      <td>...</td>\n",
       "      <td>...</td>\n",
       "      <td>...</td>\n",
       "      <td>...</td>\n",
       "      <td>...</td>\n",
       "      <td>...</td>\n",
       "    </tr>\n",
       "    <tr>\n",
       "      <th>87</th>\n",
       "      <td>196196</td>\n",
       "      <td>0.00</td>\n",
       "      <td>0.000590</td>\n",
       "      <td>0.05</td>\n",
       "      <td>2</td>\n",
       "      <td>2.049824e+07</td>\n",
       "      <td>26.953224</td>\n",
       "      <td>3.222082</td>\n",
       "    </tr>\n",
       "    <tr>\n",
       "      <th>88</th>\n",
       "      <td>196197</td>\n",
       "      <td>0.00</td>\n",
       "      <td>0.000572</td>\n",
       "      <td>0.05</td>\n",
       "      <td>1</td>\n",
       "      <td>4.409173e+06</td>\n",
       "      <td>26.988413</td>\n",
       "      <td>0.328590</td>\n",
       "    </tr>\n",
       "    <tr>\n",
       "      <th>89</th>\n",
       "      <td>196198</td>\n",
       "      <td>0.00</td>\n",
       "      <td>0.000555</td>\n",
       "      <td>0.05</td>\n",
       "      <td>1</td>\n",
       "      <td>2.046061e+03</td>\n",
       "      <td>27.015406</td>\n",
       "      <td>1.382332</td>\n",
       "    </tr>\n",
       "    <tr>\n",
       "      <th>90</th>\n",
       "      <td>196199</td>\n",
       "      <td>0.00</td>\n",
       "      <td>0.000510</td>\n",
       "      <td>0.05</td>\n",
       "      <td>0</td>\n",
       "      <td>3.612428e+07</td>\n",
       "      <td>26.984053</td>\n",
       "      <td>0.185301</td>\n",
       "    </tr>\n",
       "    <tr>\n",
       "      <th>91</th>\n",
       "      <td>196200</td>\n",
       "      <td>0.00</td>\n",
       "      <td>0.000495</td>\n",
       "      <td>0.05</td>\n",
       "      <td>1</td>\n",
       "      <td>7.887514e+03</td>\n",
       "      <td>26.701885</td>\n",
       "      <td>1.236607</td>\n",
       "    </tr>\n",
       "  </tbody>\n",
       "</table>\n",
       "<p>92 rows × 8 columns</p>\n",
       "</div>"
      ],
      "text/plain": [
       "    global_T  rem_budget  ctl_lambda   eps  dqn_action  dqn_agent_loss  \\\n",
       "0     196109  4630614.86    0.000683  0.05           5    7.341998e+06   \n",
       "1     196110  3654836.63    0.000738  0.05           6    1.437010e+05   \n",
       "2     196111  3240797.59    0.000797  0.05           6    1.188465e+04   \n",
       "3     196112  2710508.32    0.000860  0.05           6    1.085120e+08   \n",
       "4     196113  2246655.13    0.000886  0.05           5    4.880028e+06   \n",
       "..       ...         ...         ...   ...         ...             ...   \n",
       "87    196196        0.00    0.000590  0.05           2    2.049824e+07   \n",
       "88    196197        0.00    0.000572  0.05           1    4.409173e+06   \n",
       "89    196198        0.00    0.000555  0.05           1    2.046061e+03   \n",
       "90    196199        0.00    0.000510  0.05           0    3.612428e+07   \n",
       "91    196200        0.00    0.000495  0.05           1    7.887514e+03   \n",
       "\n",
       "       rnet_r  reward_net_loss  \n",
       "0   25.252375         2.466341  \n",
       "1   20.194681         0.223770  \n",
       "2   20.194698         0.796758  \n",
       "3   20.200081         3.149099  \n",
       "4   20.217422         2.191170  \n",
       "..        ...              ...  \n",
       "87  26.953224         3.222082  \n",
       "88  26.988413         0.328590  \n",
       "89  27.015406         1.382332  \n",
       "90  26.984053         0.185301  \n",
       "91  26.701885         1.236607  \n",
       "\n",
       "[92 rows x 8 columns]"
      ]
     },
     "execution_count": 12,
     "metadata": {},
     "output_type": "execute_result"
    }
   ],
   "source": [
    "# Import history of the first 25 epochs\n",
    "history1 = pd.read_csv('models/step_history_25_vanilla.csv', names=['global_T', 'rem_budget', 'ctl_lambda', 'eps', \n",
    "                                                           'dqn_action', 'dqn_agent_loss', 'rnet_r', \n",
    "                                                           'reward_net_loss'])\n",
    "# Subset the last training episode from the 10th epoch\n",
    "last_train_episode_10 = history1[history1['global_T']>=16259].copy()\n",
    "last_train_episode_10 = last_train_episode_10.reset_index(drop=True)\n",
    "\n",
    "# Import history of the last 25 epochs\n",
    "history2 = pd.read_csv('models/step_history_300_vanilla.csv', names=['global_T', 'rem_budget', 'ctl_lambda', 'eps', \n",
    "                                                           'dqn_action', 'dqn_agent_loss', 'rnet_r', \n",
    "                                                           'reward_net_loss'])\n",
    "# Subset the very last training episode\n",
    "last_train_episode = history2[history2['global_T']>=196109].copy()\n",
    "last_train_episode = last_train_episode.reset_index(drop=True)"
   ]
  },
  {
   "cell_type": "code",
   "execution_count": 22,
   "metadata": {},
   "outputs": [
    {
     "data": {
      "text/plain": [
       "<matplotlib.legend.Legend at 0x7fb247e399d0>"
      ]
     },
     "execution_count": 22,
     "metadata": {},
     "output_type": "execute_result"
    },
    {
     "data": {
      "image/png": "[encoded data removed]",
      "text/plain": [
       "<Figure size 432x288 with 1 Axes>"
      ]
     },
     "metadata": {
      "needs_background": "light"
     },
     "output_type": "display_data"
    }
   ],
   "source": [
    "# Plot the budget spending at the last episode of training\n",
    "ax = last_train_episode['rem_budget'].head(50).plot()\n",
    "ax = last_train_episode_10['rem_budget'].head(50).plot()\n",
    "ax.set_xlabel(\"Time step t\")\n",
    "ax.set_ylabel(\"Remaining budget at step t\")\n",
    "ax.set_title(\"Last training episode from 10th vs last epoch\")\n",
    "ax.legend(['last epoch', '10th epoch'])"
   ]
  },
  {
   "cell_type": "markdown",
   "metadata": {},
   "source": [
    "From the graph above it seems obvious that the starting $\\lambda_0$ is too high, since there is a very sharp drop in the remaining budget in the first 10 steps (out of 96) in both subsets of the training history. Basically because of that the model is not able to learn properly, i.e. learn to spend the budget under given constraints. We strongly believe that trying out different solutions for setting $\\lambda_0$ should be considered as a potential improvement of the DRLB. \n",
    "\n",
    "The graph below shows that the DQN was making sensible steps in adjusting the $\\lambda$ parameter by increasing it for the first 10 steps, which reinforces our suspicions about the $\\lambda_0$. Once the agent exhausted its budget though, the DQN actions obviously cannot be evaluated properly."
   ]
  },
  {
   "cell_type": "code",
   "execution_count": 23,
   "metadata": {},
   "outputs": [
    {
     "data": {
      "text/plain": [
       "<matplotlib.legend.Legend at 0x7fb244b46b20>"
      ]
     },
     "execution_count": 23,
     "metadata": {},
     "output_type": "execute_result"
    },
    {
     "data": {
      "image/png": "[encoded data removed]",
      "text/plain": [
       "<Figure size 432x288 with 1 Axes>"
      ]
     },
     "metadata": {
      "needs_background": "light"
     },
     "output_type": "display_data"
    }
   ],
   "source": [
    "# Plot the lambda parameters in the last training episode\n",
    "ax = last_train_episode['ctl_lambda'].head(50).plot()\n",
    "ax = last_train_episode_10['ctl_lambda'].head(50).plot()\n",
    "ax.set_xlabel(\"Time step t\")\n",
    "ax.set_ylabel(\"Lambda parameter at time step t\")\n",
    "ax.set_title(\"Last training episode from 10th vs last epoch\")\n",
    "ax.legend(['last epoch', '10th epoch'])"
   ]
  },
  {
   "cell_type": "markdown",
   "metadata": {},
   "source": [
    "## Improvements to the DRLB"
   ]
  },
  {
   "cell_type": "markdown",
   "metadata": {},
   "source": [
    "Given that the greedy approximation algorithm supplies $\\lambda_0$ that are too low, resulting in too high bids, we decided to fix $\\lambda_0$ at 0.01 in the beginning of each **epoch** and let the DQN agent take complete control over the $\\lambda_0$ parameter throughout each epoch, to see if this would result in some improvements."
   ]
  },
  {
   "cell_type": "code",
   "execution_count": 1,
   "metadata": {},
   "outputs": [
    {
     "name": "stdout",
     "output_type": "stream",
     "text": [
      "Episode Result with Step=95 Budget=3306 Spend=3304 impressions=175 clicks=0\n",
      "Episode Result with Step=189 Budget=3306 Spend=3303 impressions=281 clicks=1\n",
      "Episode Result with Step=283 Budget=3306.8525411150495 Spend=3305 impressions=376 clicks=3\n",
      "Episode Result with Step=95 Budget=1653 Spend=1652 impressions=94 clicks=0\n",
      "Episode Result with Step=189 Budget=1653 Spend=1652 impressions=180 clicks=1\n",
      "Episode Result with Step=283 Budget=1653.4262705575247 Spend=1652 impressions=172 clicks=1\n",
      "Episode Result with Step=95 Budget=826 Spend=825 impressions=51 clicks=0\n",
      "Episode Result with Step=189 Budget=826 Spend=825 impressions=100 clicks=0\n",
      "Episode Result with Step=283 Budget=826.7131352787624 Spend=825 impressions=110 clicks=1\n",
      "Episode Result with Step=95 Budget=413 Spend=413 impressions=29 clicks=0\n",
      "Episode Result with Step=189 Budget=413 Spend=411 impressions=48 clicks=0\n",
      "Episode Result with Step=283 Budget=413.3565676393812 Spend=413 impressions=63 clicks=0\n",
      "Episode Result with Step=95 Budget=206 Spend=206 impressions=21 clicks=0\n",
      "Episode Result with Step=189 Budget=206 Spend=205 impressions=24 clicks=0\n",
      "Episode Result with Step=283 Budget=206.6782838196906 Spend=205 impressions=35 clicks=0\n"
     ]
    }
   ],
   "source": [
    "%run -i 'src/rtb_agent/evaluate_free.py'"
   ]
  },
  {
   "cell_type": "markdown",
   "metadata": {},
   "source": [
    "As one can see, this small adjustment resulted in a singificant improvement over the greedy approximation solution proposed by Wu et al. (2018)."
   ]
  },
  {
   "cell_type": "code",
   "execution_count": 18,
   "metadata": {},
   "outputs": [
    {
     "data": {
      "text/plain": [
       "Text(0.5, 1.0, 'Last training episode from last epoch')"
      ]
     },
     "execution_count": 18,
     "metadata": {},
     "output_type": "execute_result"
    },
    {
     "data": {
      "image/png": "[encoded data removed]",
      "text/plain": [
       "<Figure size 432x288 with 1 Axes>"
      ]
     },
     "metadata": {
      "needs_background": "light"
     },
     "output_type": "display_data"
    }
   ],
   "source": [
    "# Import history of the last 25 epochs\n",
    "history3 = pd.read_csv('models/step_history_free.csv', names=['global_T', 'rem_budget', 'ctl_lambda', 'eps', \n",
    "                                                           'dqn_action', 'dqn_agent_loss', 'rnet_r', \n",
    "                                                           'reward_net_loss'])\n",
    "# Subset the very last training episode\n",
    "last_train_episode = history3[(history3['global_T']>=226939) & (history3['global_T']<=227592)].copy()\n",
    "last_train_episode = last_train_episode.reset_index(drop=True)\n",
    "\n",
    "# Plot the budget spending at the last episode of training\n",
    "ax = last_train_episode['rem_budget'].head(50).plot()\n",
    "ax.set_xlabel(\"Time step t\")\n",
    "ax.set_ylabel(\"Remaining budget at step t\")\n",
    "ax.set_title(\"Last training episode from last epoch\")"
   ]
  },
  {
   "cell_type": "code",
   "execution_count": null,
   "metadata": {},
   "outputs": [],
   "source": [
    "fig, (ax1, ax2) = plt.subplots(2)\n",
    "fig.set_size_inches(10,12)\n",
    "df_bid_train[df_bid_train['click']==1].hour.value_counts().sort_index(axis=0,  kind='quicksort').plot(kind='bar', ax=ax1, position=1, label = 'Train set')\n",
    "df_bid_test[df_bid_test['click']==1].hour.value_counts().sort_index(axis=0,  kind='quicksort').plot(kind='bar', color='orange', ax=ax1, position=0, label = 'Test set')\n",
    "ax1.set_xlabel('Hour')\n",
    "ax1.set_ylabel('Amount of clicks')\n",
    "ax1.legend(loc = 'upper left')\n",
    "\n",
    "ax2.set_xlabel('Prices ranges for ad placements with a click (pay prices) vs. no click')\n",
    "ax2.set_ylabel('Price (RMB)')\n",
    "plt.boxplot([df_bid_train[df_bid_train['click']==0].payprice, df_bid_test[df_bid_test['click']==0].payprice, df_bid_train[df_bid_train['click']==1].payprice, \n",
    "             df_bid_test[df_bid_test['click']==1].payprice], labels = ['Train no click', 'Test no click', 'Train click', 'Test click'])\n",
    "\n",
    "plt.savefig('dataviz.png', transparent = True)"
   ]
  },
  {
   "cell_type": "markdown",
   "metadata": {},
   "source": [
    "Then we tried to set $\\lambda_0$ to 0.01 in the beginning of each **episode** and let the DQN agent take complete control over the $\\lambda_0$ parameter throughout each epoch, to see if this would result in some improvements."
   ]
  },
  {
   "cell_type": "code",
   "execution_count": 1,
   "metadata": {},
   "outputs": [
    {
     "name": "stdout",
     "output_type": "stream",
     "text": [
      "Episode Result with Step=95 Budget=3306 Spend=3303 impressions=174 clicks=0\n",
      "Episode Result with Step=189 Budget=3306 Spend=3305 impressions=174 clicks=1\n",
      "Episode Result with Step=283 Budget=3306 Spend=3303 impressions=166 clicks=0\n",
      "Episode Result with Step=95 Budget=1653 Spend=1651 impressions=93 clicks=0\n",
      "Episode Result with Step=189 Budget=1653 Spend=1653 impressions=77 clicks=1\n",
      "Episode Result with Step=283 Budget=1653 Spend=1650 impressions=80 clicks=0\n",
      "Episode Result with Step=95 Budget=826 Spend=824 impressions=50 clicks=0\n",
      "Episode Result with Step=189 Budget=826 Spend=825 impressions=46 clicks=1\n",
      "Episode Result with Step=283 Budget=826 Spend=823 impressions=43 clicks=0\n",
      "Episode Result with Step=95 Budget=413 Spend=412 impressions=28 clicks=0\n",
      "Episode Result with Step=189 Budget=413 Spend=410 impressions=24 clicks=0\n",
      "Episode Result with Step=283 Budget=413 Spend=410 impressions=21 clicks=0\n",
      "Episode Result with Step=95 Budget=206 Spend=206 impressions=21 clicks=0\n",
      "Episode Result with Step=189 Budget=206 Spend=204 impressions=11 clicks=0\n",
      "Episode Result with Step=283 Budget=206 Spend=203 impressions=9 clicks=0\n"
     ]
    }
   ],
   "source": [
    "%run -i 'src/rtb_agent/evaluate_episode.py'"
   ]
  },
  {
   "cell_type": "code",
   "execution_count": 9,
   "metadata": {},
   "outputs": [
    {
     "data": {
      "text/html": [
       "<div>\n",
       "<style scoped>\n",
       "    .dataframe tbody tr th:only-of-type {\n",
       "        vertical-align: middle;\n",
       "    }\n",
       "\n",
       "    .dataframe tbody tr th {\n",
       "        vertical-align: top;\n",
       "    }\n",
       "\n",
       "    .dataframe thead tr th {\n",
       "        text-align: left;\n",
       "    }\n",
       "\n",
       "    .dataframe thead tr:last-of-type th {\n",
       "        text-align: right;\n",
       "    }\n",
       "</style>\n",
       "<table border=\"1\" class=\"dataframe\">\n",
       "  <thead>\n",
       "    <tr>\n",
       "      <th></th>\n",
       "      <th></th>\n",
       "      <th colspan=\"3\" halign=\"left\">RandBid</th>\n",
       "      <th colspan=\"3\" halign=\"left\">LinBid</th>\n",
       "      <th colspan=\"3\" halign=\"left\">Vanilla DRLB</th>\n",
       "      <th colspan=\"3\" halign=\"left\">DRLB free lambda</th>\n",
       "      <th colspan=\"3\" halign=\"left\">DRLB episode lambda</th>\n",
       "      <th colspan=\"3\" halign=\"left\">Improved DRLB</th>\n",
       "    </tr>\n",
       "    <tr>\n",
       "      <th></th>\n",
       "      <th></th>\n",
       "      <th>day 8</th>\n",
       "      <th>day 9</th>\n",
       "      <th>day 10</th>\n",
       "      <th>day 8</th>\n",
       "      <th>day 9</th>\n",
       "      <th>day 10</th>\n",
       "      <th>day 8</th>\n",
       "      <th>day 9</th>\n",
       "      <th>day 10</th>\n",
       "      <th>day 8</th>\n",
       "      <th>day 9</th>\n",
       "      <th>day 10</th>\n",
       "      <th>day 8</th>\n",
       "      <th>day 9</th>\n",
       "      <th>day 10</th>\n",
       "      <th>day 8</th>\n",
       "      <th>day 9</th>\n",
       "      <th>day 10</th>\n",
       "    </tr>\n",
       "    <tr>\n",
       "      <th>reward</th>\n",
       "      <th>c0</th>\n",
       "      <th></th>\n",
       "      <th></th>\n",
       "      <th></th>\n",
       "      <th></th>\n",
       "      <th></th>\n",
       "      <th></th>\n",
       "      <th></th>\n",
       "      <th></th>\n",
       "      <th></th>\n",
       "      <th></th>\n",
       "      <th></th>\n",
       "      <th></th>\n",
       "      <th></th>\n",
       "      <th></th>\n",
       "      <th></th>\n",
       "      <th></th>\n",
       "      <th></th>\n",
       "      <th></th>\n",
       "    </tr>\n",
       "  </thead>\n",
       "  <tbody>\n",
       "    <tr>\n",
       "      <th rowspan=\"5\" valign=\"top\">clicks</th>\n",
       "      <th>1/2</th>\n",
       "      <td>0</td>\n",
       "      <td>0</td>\n",
       "      <td>0</td>\n",
       "      <td>0</td>\n",
       "      <td>0</td>\n",
       "      <td>0</td>\n",
       "      <td>0</td>\n",
       "      <td>0</td>\n",
       "      <td>0</td>\n",
       "      <td>0</td>\n",
       "      <td>1</td>\n",
       "      <td>3</td>\n",
       "      <td>0</td>\n",
       "      <td>1</td>\n",
       "      <td>0</td>\n",
       "      <td>0</td>\n",
       "      <td>0</td>\n",
       "      <td>0</td>\n",
       "    </tr>\n",
       "    <tr>\n",
       "      <th>1/4</th>\n",
       "      <td>0</td>\n",
       "      <td>0</td>\n",
       "      <td>0</td>\n",
       "      <td>0</td>\n",
       "      <td>0</td>\n",
       "      <td>0</td>\n",
       "      <td>0</td>\n",
       "      <td>0</td>\n",
       "      <td>0</td>\n",
       "      <td>0</td>\n",
       "      <td>1</td>\n",
       "      <td>1</td>\n",
       "      <td>0</td>\n",
       "      <td>1</td>\n",
       "      <td>0</td>\n",
       "      <td>0</td>\n",
       "      <td>0</td>\n",
       "      <td>0</td>\n",
       "    </tr>\n",
       "    <tr>\n",
       "      <th>1/8</th>\n",
       "      <td>0</td>\n",
       "      <td>0</td>\n",
       "      <td>0</td>\n",
       "      <td>0</td>\n",
       "      <td>0</td>\n",
       "      <td>0</td>\n",
       "      <td>0</td>\n",
       "      <td>0</td>\n",
       "      <td>0</td>\n",
       "      <td>0</td>\n",
       "      <td>0</td>\n",
       "      <td>1</td>\n",
       "      <td>0</td>\n",
       "      <td>1</td>\n",
       "      <td>0</td>\n",
       "      <td>0</td>\n",
       "      <td>0</td>\n",
       "      <td>0</td>\n",
       "    </tr>\n",
       "    <tr>\n",
       "      <th>1/16</th>\n",
       "      <td>0</td>\n",
       "      <td>0</td>\n",
       "      <td>0</td>\n",
       "      <td>0</td>\n",
       "      <td>0</td>\n",
       "      <td>0</td>\n",
       "      <td>0</td>\n",
       "      <td>0</td>\n",
       "      <td>0</td>\n",
       "      <td>0</td>\n",
       "      <td>0</td>\n",
       "      <td>0</td>\n",
       "      <td>0</td>\n",
       "      <td>0</td>\n",
       "      <td>0</td>\n",
       "      <td>0</td>\n",
       "      <td>0</td>\n",
       "      <td>0</td>\n",
       "    </tr>\n",
       "    <tr>\n",
       "      <th>1/32</th>\n",
       "      <td>0</td>\n",
       "      <td>0</td>\n",
       "      <td>0</td>\n",
       "      <td>0</td>\n",
       "      <td>0</td>\n",
       "      <td>0</td>\n",
       "      <td>0</td>\n",
       "      <td>0</td>\n",
       "      <td>0</td>\n",
       "      <td>0</td>\n",
       "      <td>0</td>\n",
       "      <td>0</td>\n",
       "      <td>0</td>\n",
       "      <td>0</td>\n",
       "      <td>0</td>\n",
       "      <td>0</td>\n",
       "      <td>0</td>\n",
       "      <td>0</td>\n",
       "    </tr>\n",
       "    <tr>\n",
       "      <th rowspan=\"5\" valign=\"top\">impression</th>\n",
       "      <th>1/2</th>\n",
       "      <td>58</td>\n",
       "      <td>52</td>\n",
       "      <td>56</td>\n",
       "      <td>70</td>\n",
       "      <td>76</td>\n",
       "      <td>69</td>\n",
       "      <td>45</td>\n",
       "      <td>48</td>\n",
       "      <td>37</td>\n",
       "      <td>175</td>\n",
       "      <td>288</td>\n",
       "      <td>376</td>\n",
       "      <td>175</td>\n",
       "      <td>174</td>\n",
       "      <td>166</td>\n",
       "      <td>175</td>\n",
       "      <td>48</td>\n",
       "      <td>37</td>\n",
       "    </tr>\n",
       "    <tr>\n",
       "      <th>1/4</th>\n",
       "      <td>27</td>\n",
       "      <td>27</td>\n",
       "      <td>20</td>\n",
       "      <td>32</td>\n",
       "      <td>37</td>\n",
       "      <td>35</td>\n",
       "      <td>24</td>\n",
       "      <td>23</td>\n",
       "      <td>18</td>\n",
       "      <td>94</td>\n",
       "      <td>180</td>\n",
       "      <td>172</td>\n",
       "      <td>93</td>\n",
       "      <td>77</td>\n",
       "      <td>80</td>\n",
       "      <td>94</td>\n",
       "      <td>23</td>\n",
       "      <td>18</td>\n",
       "    </tr>\n",
       "    <tr>\n",
       "      <th>1/8</th>\n",
       "      <td>16</td>\n",
       "      <td>12</td>\n",
       "      <td>10</td>\n",
       "      <td>14</td>\n",
       "      <td>19</td>\n",
       "      <td>19</td>\n",
       "      <td>15</td>\n",
       "      <td>11</td>\n",
       "      <td>11</td>\n",
       "      <td>51</td>\n",
       "      <td>100</td>\n",
       "      <td>110</td>\n",
       "      <td>50</td>\n",
       "      <td>46</td>\n",
       "      <td>43</td>\n",
       "      <td>51</td>\n",
       "      <td>11</td>\n",
       "      <td>11</td>\n",
       "    </tr>\n",
       "    <tr>\n",
       "      <th>1/16</th>\n",
       "      <td>5</td>\n",
       "      <td>9</td>\n",
       "      <td>10</td>\n",
       "      <td>7</td>\n",
       "      <td>8</td>\n",
       "      <td>15</td>\n",
       "      <td>5</td>\n",
       "      <td>5</td>\n",
       "      <td>10</td>\n",
       "      <td>29</td>\n",
       "      <td>48</td>\n",
       "      <td>63</td>\n",
       "      <td>28</td>\n",
       "      <td>24</td>\n",
       "      <td>21</td>\n",
       "      <td>29</td>\n",
       "      <td>5</td>\n",
       "      <td>10</td>\n",
       "    </tr>\n",
       "    <tr>\n",
       "      <th>1/32</th>\n",
       "      <td>7</td>\n",
       "      <td>6</td>\n",
       "      <td>7</td>\n",
       "      <td>6</td>\n",
       "      <td>6</td>\n",
       "      <td>10</td>\n",
       "      <td>4</td>\n",
       "      <td>6</td>\n",
       "      <td>8</td>\n",
       "      <td>21</td>\n",
       "      <td>24</td>\n",
       "      <td>35</td>\n",
       "      <td>21</td>\n",
       "      <td>11</td>\n",
       "      <td>9</td>\n",
       "      <td>21</td>\n",
       "      <td>6</td>\n",
       "      <td>8</td>\n",
       "    </tr>\n",
       "  </tbody>\n",
       "</table>\n",
       "</div>"
      ],
      "text/plain": [
       "                RandBid              LinBid              Vanilla DRLB        \\\n",
       "                  day 8 day 9 day 10  day 8 day 9 day 10        day 8 day 9   \n",
       "reward     c0                                                                 \n",
       "clicks     1/2        0     0      0      0     0      0            0     0   \n",
       "           1/4        0     0      0      0     0      0            0     0   \n",
       "           1/8        0     0      0      0     0      0            0     0   \n",
       "           1/16       0     0      0      0     0      0            0     0   \n",
       "           1/32       0     0      0      0     0      0            0     0   \n",
       "impression 1/2       58    52     56     70    76     69           45    48   \n",
       "           1/4       27    27     20     32    37     35           24    23   \n",
       "           1/8       16    12     10     14    19     19           15    11   \n",
       "           1/16       5     9     10      7     8     15            5     5   \n",
       "           1/32       7     6      7      6     6     10            4     6   \n",
       "\n",
       "                       DRLB free lambda              DRLB episode lambda  \\\n",
       "                day 10            day 8 day 9 day 10               day 8   \n",
       "reward     c0                                                              \n",
       "clicks     1/2       0                0     1      3                   0   \n",
       "           1/4       0                0     1      1                   0   \n",
       "           1/8       0                0     0      1                   0   \n",
       "           1/16      0                0     0      0                   0   \n",
       "           1/32      0                0     0      0                   0   \n",
       "impression 1/2      37              175   288    376                 175   \n",
       "           1/4      18               94   180    172                  93   \n",
       "           1/8      11               51   100    110                  50   \n",
       "           1/16     10               29    48     63                  28   \n",
       "           1/32      8               21    24     35                  21   \n",
       "\n",
       "                             Improved DRLB               \n",
       "                day 9 day 10         day 8 day 9 day 10  \n",
       "reward     c0                                            \n",
       "clicks     1/2      1      0             0     0      0  \n",
       "           1/4      1      0             0     0      0  \n",
       "           1/8      1      0             0     0      0  \n",
       "           1/16     0      0             0     0      0  \n",
       "           1/32     0      0             0     0      0  \n",
       "impression 1/2    174    166           175    48     37  \n",
       "           1/4     77     80            94    23     18  \n",
       "           1/8     46     43            51    11     11  \n",
       "           1/16    24     21            29     5     10  \n",
       "           1/32    11      9            21     6      8  "
      ]
     },
     "execution_count": 9,
     "metadata": {},
     "output_type": "execute_result"
    }
   ],
   "source": [
    "# Compare results of all models\n",
    "iterables=[['clicks','impression'],['1/2','1/4','1/8','1/16','1/32']]\n",
    "arrays=pd.MultiIndex.from_product(iterables, names=['reward', 'c0'])\n",
    "rand_a=pd.Series(([0]*5) + [58, 27, 16, 5, 7])\n",
    "rand_b=pd.Series(([0]*5) + [52, 27, 12, 9, 6])\n",
    "rand_c=pd.Series(([0]*5) + [56, 20, 10, 10, 7])\n",
    "lin_a=pd.Series(([0]*5) + [70, 32, 14, 7, 6])\n",
    "lin_b=pd.Series(([0]*5) + [76, 37, 19, 8, 6])\n",
    "lin_c=pd.Series(([0]*5) + [69, 35, 19, 15, 10])\n",
    "vanilla_drlb_a=pd.Series(([0]*5) + [45, 24, 15, 5, 4])\n",
    "vanilla_drlb_b=pd.Series(([0]*5) + [48, 23, 11, 5, 6])\n",
    "vanilla_drlb_c=pd.Series(([0]*5) + [37, 18, 11, 10, 8])\n",
    "drlb_free_a=pd.Series(([0]*5) + [175,94,51,29,21])\n",
    "drlb_free_b=pd.Series([1,1,0,0,0,288,180,100,48,24])\n",
    "drlb_free_c=pd.Series([3,1,1,0,0,376,172,110,63,35])\n",
    "drlb_ep_a=pd.Series(([0]*5) + [175,93,50,28,21])\n",
    "drlb_ep_b=pd.Series([1,1,1,0,0,174,77,46,24,11])\n",
    "drlb_ep_c=pd.Series(([0]*5) + [166,80,43,21,9])\n",
    "drlb_imp_a=pd.Series(([0]*5) + [175,94,51,29,21])\n",
    "drlb_imp_b=pd.Series(([0]*5) + [48,23,11,5,6])\n",
    "drlb_imp_c=pd.Series(([0]*5) + [37,18,11,10,8])\n",
    "display=pd.DataFrame(pd.concat([rand_a,rand_b,rand_c,lin_a, lin_b, lin_c,\n",
    "                                vanilla_drlb_a,vanilla_drlb_b,vanilla_drlb_c,\n",
    "                                drlb_free_a,drlb_free_b,drlb_free_c,drlb_ep_a,\n",
    "                                drlb_ep_b,drlb_ep_c, drlb_imp_a,\n",
    "                               drlb_imp_b, drlb_imp_c],axis=1).values, index=arrays)\n",
    "display.columns=pd.MultiIndex.from_tuples([(\"RandBid\", \"day 8\"), (\"RandBid\", \"day 9\"), (\"RandBid\", \"day 10\"),\n",
    "                                           (\"LinBid\", \"day 8\"), (\"LinBid\", \"day 9\"), (\"LinBid\", \"day 10\"),\n",
    "                                          (\"Vanilla DRLB\", \"day 8\"), (\"Vanilla DRLB\", \"day 9\"), (\"Vanilla DRLB\", \"day 10\"),\n",
    "                                          (\"DRLB free lambda\", \"day 8\"), (\"DRLB free lambda\", \"day 9\"), (\"DRLB free lambda\", \"day 10\"),\n",
    "                                          (\"DRLB episode lambda\", \"day 8\"), (\"DRLB episode lambda\", \"day 9\"), (\"DRLB episode lambda\", \"day 10\"),\n",
    "                                          (\"Improved DRLB\", \"day 8\"), (\"Improved DRLB\", \"day 9\"), (\"Improved DRLB\", \"day 10\")])\n",
    "display\n",
    "display.to_latex('paper_related/results.tex')"
   ]
  },
  {
   "cell_type": "code",
   "execution_count": 10,
   "metadata": {},
   "outputs": [],
   "source": [
    "display.to_latex('results.tex')"
   ]
  },
  {
   "cell_type": "code",
   "execution_count": 1,
   "metadata": {},
   "outputs": [
    {
     "name": "stdout",
     "output_type": "stream",
     "text": [
      "Episode Result with Step=95 Budget=3306 Spend=3304 impressions=175 clicks=0\n",
      "Episode Result with Step=189 Budget=3306 Spend=3306 impressions=48 clicks=0\n",
      "Episode Result with Step=283 Budget=3306.8525411150495 Spend=3306 impressions=37 clicks=0\n",
      "Episode Result with Step=95 Budget=1653 Spend=1652 impressions=94 clicks=0\n",
      "Episode Result with Step=189 Budget=1653 Spend=1653 impressions=23 clicks=0\n",
      "Episode Result with Step=283 Budget=1653.4262705575247 Spend=1653 impressions=18 clicks=0\n",
      "Episode Result with Step=95 Budget=826 Spend=825 impressions=51 clicks=0\n",
      "Episode Result with Step=189 Budget=826 Spend=826 impressions=11 clicks=0\n",
      "Episode Result with Step=283 Budget=826.7131352787624 Spend=826 impressions=11 clicks=0\n",
      "Episode Result with Step=95 Budget=413 Spend=413 impressions=29 clicks=0\n",
      "Episode Result with Step=189 Budget=413 Spend=412 impressions=5 clicks=0\n",
      "Episode Result with Step=283 Budget=413.3565676393812 Spend=413 impressions=10 clicks=0\n",
      "Episode Result with Step=95 Budget=206 Spend=206 impressions=21 clicks=0\n",
      "Episode Result with Step=189 Budget=206 Spend=204 impressions=6 clicks=0\n",
      "Episode Result with Step=283 Budget=206.6782838196906 Spend=206 impressions=8 clicks=0\n"
     ]
    }
   ],
   "source": [
    "%run -i 'src/rtb_agent/evaluate_improved.py'"
   ]
  },
  {
   "cell_type": "code",
   "execution_count": 3,
   "metadata": {},
   "outputs": [
    {
     "name": "stdout",
     "output_type": "stream",
     "text": [
      "Episode result with clicks=0, impressions=70, budget left=1.852541115049462\n",
      "Episode result with clicks=0, impressions=76, budget left=3.852541115049462\n",
      "Episode result with clicks=0, impressions=69, budget left=0.852541115049462\n",
      "Episode result with clicks=0, impressions=32, budget left=1.426270557524731\n",
      "Episode result with clicks=0, impressions=37, budget left=3.426270557524731\n",
      "Episode result with clicks=0, impressions=35, budget left=0.426270557524731\n",
      "Episode result with clicks=0, impressions=14, budget left=0.7131352787623655\n",
      "Episode result with clicks=0, impressions=19, budget left=2.7131352787623655\n",
      "Episode result with clicks=0, impressions=19, budget left=0.7131352787623655\n",
      "Episode result with clicks=0, impressions=7, budget left=0.35656763938118274\n",
      "Episode result with clicks=0, impressions=8, budget left=3.3565676393811827\n",
      "Episode result with clicks=0, impressions=15, budget left=0.35656763938118274\n",
      "Episode result with clicks=0, impressions=6, budget left=1.6782838196905914\n",
      "Episode result with clicks=0, impressions=6, budget left=0.6782838196905914\n",
      "Episode result with clicks=0, impressions=10, budget left=0.6782838196905914\n"
     ]
    }
   ],
   "source": [
    "%run -i 'src/rtb_agent/evaluate_linbid.py'"
   ]
  },
  {
   "cell_type": "markdown",
   "metadata": {},
   "source": [
    "# 7. References \n",
    "\n",
    "Altman E. (1999): „Constrained Markov decision processes“, CRC Press, Vol. 7.  \n",
    "\n",
    "Dantzig G. 1957. Discrete-variable extremum problems. Operations research 5, 2 (1957), 266–288.\n",
    "\n",
    "Han Cai, Kan Ren, Weinan Zhang, Kleanthis Malialis, Jun Wang, Yong Yu, and Defeng Guo. 2017. Real-Time Bidding by Reinforcement Learning in Display Advertising. In Proceedings of the Tenth ACM International Conference on Web\n",
    "Search and Data Mining. ACM, 661–670.  \n",
    "\n",
    "Liu M., Li J., Yue W., Qiu L., Liu J., Qin Z. (2019): \"An Intelligent Bidding Strategy Based on Model-Free Reinforcement Learning for Re- al-Time Bidding in Display Advertising\", Seventh International Conference on Advanced Cloud and Big Data, pp.240-245.\n",
    "\n",
    "Mnih V., Kavukcuoglu K., Silver D., Rusu A.A., Veness J.  Bellemare M., Graves A., Riedmiller M.A., Fidjeland A., Ostrovski G., Petersen S., Beattie C., Sadik A., Antonoglou I., King H., Kumaran D., Wierstra D., Legg S., Hassabis D. (2015): \"Human-level control through deep reinforcement learning\", Nature 518, 7540, pp. 529–533.  \n",
    "\n",
    "Singh A. (2019): „Reinforcement Learning : Markov-Decision Process (Part 1)“, [online] https://towardsdatascience.com/introduction-to-reinforcement-learning-markov-decision-process-44c533ebf8da [08.12.2020].  \n",
    "\n",
    "Sutton R. and Barto A.G. (2014): \"Reinforcement Learning: An Introduction\", The MIT Press, pp.53-80. \n",
    "\n",
    "Sutton R. and Barto A.G. (2018): \"Reinforcement Learning\", The MIT Press, pp.1-6. \n",
    "\n",
    "Reza R.A, Yingqian Z., Murat F. et al., A State Aggregation Approach for Solving Knapsack Problem with Deep Reinforcement Learning,Proceedings of Machine Learning Research 129:81–96, 2020\n",
    "\n",
    "Wu D., Chen X., Yang X., et al. (2018): „Budget Constrained Bidding by model-free Reinforcement Learning in Display Advertising“, Association for Computing Machinery, 27, pp. 1443–1451.  \n",
    "\n",
    "Watkins C. J. and Dayan P. (1992): \"Q-learning\", Technical Note. Machine Learning, 8, pp.279–292.\n",
    "\n",
    "Zhang W., Yuan S., and Wang J. (2014): „Optimal Real-Time Bidding for Display Advertising“ Association for Computing Machinery, 20, pp. 1077–1086. \n",
    "\n",
    "Zhang W., Yuan S., Wang J. (2014): \"Real-Time Bidding Benchmarking with iPinYou Dataset\", arXiv:1407.7073 [cs.GT]. \n",
    "\n",
    "Zhang W., Ren K., and Wang J (2016): \"Optimal real-time bidding frameworks discussion\", arXiv:1602.01007. \n",
    "\n",
    "Zhou Y., Chakrabarty D., and Lukose R. (2008): „Budget constrained bidding in keyword auctions and online knapsack problems“, International Workshop on Internet and Network Economics, Springer, pp. 566–576.  \n",
    "\n",
    "\n"
   ]
  }
 ],
 "metadata": {
  "kernelspec": {
   "display_name": "Python 3",
   "language": "python",
   "name": "python3"
  },
  "language_info": {
   "codemirror_mode": {
    "name": "ipython",
    "version": 3
   },
   "file_extension": ".py",
   "mimetype": "text/x-python",
   "name": "python",
   "nbconvert_exporter": "python",
   "pygments_lexer": "ipython3",
   "version": "3.8.5"
  }
 },
 "nbformat": 4,
 "nbformat_minor": 4
}
