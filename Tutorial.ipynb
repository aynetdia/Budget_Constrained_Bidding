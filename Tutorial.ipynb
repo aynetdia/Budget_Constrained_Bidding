{
 "cells": [
  {
   "cell_type": "markdown",
   "metadata": {},
   "source": [
    "[![Open In Colab](https://colab.research.google.com/assets/colab-badge.svg)](https://colab.research.google.com/github/aynetdia/Budget_Constrained_Bidding/blob/master/Tutorial.ipynb) "
   ]
  },
  {
   "cell_type": "markdown",
   "metadata": {},
   "source": [
    "# Setting up the notebook in Colab"
   ]
  },
  {
   "cell_type": "code",
   "execution_count": null,
   "metadata": {},
   "outputs": [],
   "source": [
    "# Mount on GDrive\n",
    "from google.colab import drive\n",
    "drive.mount('/content/drive')"
   ]
  },
  {
   "cell_type": "code",
   "execution_count": null,
   "metadata": {},
   "outputs": [],
   "source": [
    "# Cloning the repo (only when setting up for the first time)\n",
    "%cd drive/MyDrive\n",
    "!git clone https://github.com/aynetdia/budget_constrained_bidding.git"
   ]
  },
  {
   "cell_type": "markdown",
   "metadata": {},
   "source": [
    "Here's a link to the dataset: https://drive.google.com/drive/folders/1YYyxGMDW0EuZA2BI-uR_2j60lpngKgy8?usp=sharing\n",
    "\n",
    "In order to set up the dataset, you either have to download the linked folder containing the dataset and put it into `/budget_constrained_biddig/data/ipinyou/`, in case you choose to run the notebook locally, or add a GDrive shortcut (go to: Shared with me -> Right click on the dataset folder -> Add shortcut to Drive) and select the  same `/budget_constrained_biddig/data/ipinyou/` as a location to place the shortcut in, if you want to run the notebook in Colab."
   ]
  },
  {
   "cell_type": "code",
   "execution_count": null,
   "metadata": {},
   "outputs": [],
   "source": [
    "# Go into the project folder and pull the last changes (do that every time before running the notebook)\n",
    "# If executing after cloning the repo: %cd budget_constrained_bidding\n",
    "%cd /content/drive/MyDrive/budget_constrained_bidding\n",
    "!git pull"
   ]
  },
  {
   "cell_type": "markdown",
   "metadata": {},
   "source": [
    "# Table of Contents\n",
    "\n",
    "1. Introduction into the application domain\n",
    "2. Methods\n",
    "3. DRLB framework\n",
    "4. Implementation\n",
    "5. Results"
   ]
  },
  {
   "cell_type": "markdown",
   "metadata": {},
   "source": [
    "# 1. Introduction"
   ]
  },
  {
   "cell_type": "markdown",
   "metadata": {},
   "source": []
  },
  {
   "cell_type": "markdown",
   "metadata": {},
   "source": [
    "# 2. Methods"
   ]
  },
  {
   "cell_type": "markdown",
   "metadata": {},
   "source": [
    "## 2.1 Introduction and Methods Comparison\n",
    "\n",
    "\n",
    "Reinforcement Learning (RL) is a tool to support sequential decision-making events and is a highly active research field of machine learning. It finds enormous application in e.g. real-time-bidding in advertisement auction.\n",
    "\n",
    "RL is a core control problem in which an agent sequentially interacts with an unknown environment to maximize its cumulative reward [1]. It is a simulation of the human learning process in dynamic environments without any supervision. To find the best strategy of reward maximization, the agent continuously interacts with the environment and finds the optimal action under different states. Roughly speaking, the agent’s goal is to get as much reward as possible over the long run.\n",
    "\n",
    "For instance, board game playing is a classical dynamic decision-making process. Players need to interact with their counterparts. It is a procedure filled with immediate rewards, intuitive judgments, and each action will generate an impact in the end. The cumulative reward will decide its win-or-failure [1].\n",
    "\n",
    "In reality, such scenarios will consist of several problems that can be solved by a class of solution methods, but not all of them can achieve the rewards maximization objective. In the learning process of RL, each action the agent made, will generate some impact not only on the immediate reward but also on the future states. In other words, RL faces a dynamic decision-making problem, the agent will obtain continuous rewards and punishments in this learning process and modify its behaviors according to the environment's feedbacks and finally to maximize the cumulative reward.\n",
    "\n",
    "In order to make the process more clear, we explain some basic concept of RL as follows: \n",
    "Policy: the whole actions the learning agent has taken in a concrete period \n",
    "Agent: the one who takes the action\n",
    "Environment: the place where the agent takes action and interacts with him\n",
    "Action: the move the agent makes to interact with the environment\n",
    "State: a situation in which the agent perceives \n",
    "Reward: feedback of the agent’s action \t\n",
    "\n",
    " Image 1 illustrates the whole process of RL.\n",
    "\n",
    "![Image 1: Reinforcement Learning Process](process_RL.png)\n",
    "\t\n",
    "\n",
    "\t\n",
    "Besides RL, supervised learning and unsupervised learning are the most classic machine learning methods. In this section, we explain why RL is the best choice for solving dynamic decision-making problems. Thus, the core differences among these three methods are shown in table(#).\n",
    "\n",
    "![Table 1: Machine Learning Methods Comparison](comparison_methods.png)\n",
    "\t\n",
    "\n",
    "\n",
    "\n",
    "Supervised learning is mainly used to solve regression and classification problems. It explores the relation among labeled, the target variable, and other input variables and produces a model to predict further category identification.\n",
    "\n",
    "In comparison, unsupervised learning obtains unlabeled observations and searches the hidden structure behind the input data. Both of these methods are not suitable for the desired behavior optimization problem in a dynamic process. Unlike supervised and unsupervised learning, which will not consider the capacity or some constrained environments, reinforcement learning will start with a clear initial setting, goal, and interactive agent. All the sequential action the agent takes will generate some influence in this environment. After a dynamic model training process, the agent obtains more and more rewards as desired by taking optimal actions in order to maximize the cumulative reward. \n",
    "\n",
    "Reinforcement Learning models problems into a Markov Decision Process and matching the output to the problem. In theory, when we can map our problems into an MDP, we can expect that reinforcement learning can be a useful tool to solve such problems. In the next section, we will explain how it works with Markov Decision Process and give more details about Deep Q-Learning, which is a core concept in our project.\n",
    "\n",
    "\t\n",
    "\n",
    "\n",
    "\n"
   ]
  },
  {
   "cell_type": "markdown",
   "metadata": {},
   "source": [
    "# 3. DRLB framework"
   ]
  },
  {
   "cell_type": "markdown",
   "metadata": {},
   "source": []
  },
  {
   "cell_type": "markdown",
   "metadata": {},
   "source": [
    "# 4. Implementation"
   ]
  },
  {
   "cell_type": "code",
   "execution_count": null,
   "metadata": {},
   "outputs": [],
   "source": [
    "#you should find yourself inside the project folder after you've pulled the latest changes\n",
    "!ls"
   ]
  },
  {
   "cell_type": "code",
   "execution_count": 4,
   "metadata": {},
   "outputs": [],
   "source": [
    "# import the dataset\n",
    "import pandas as pd\n",
    "bid_requests = pd.read_csv('data/ipinyou/1458/train.log.txt', sep=\"\\t\")"
   ]
  },
  {
   "cell_type": "code",
   "execution_count": 21,
   "metadata": {
    "scrolled": true
   },
   "outputs": [],
   "source": [
    "# add the necessary data intervals\n",
    "\n",
    "def get_time_interval(data):\n",
    "    time_inv=int(data[10:12])\n",
    "    if time_inv>=0 and time_inv<15:\n",
    "            return (\"00\")\n",
    "    elif time_inv >= 15 and time_inv < 30:\n",
    "            return (\"15\")\n",
    "    elif time_inv >= 30 and time_inv < 45:\n",
    "            return (\"30\")\n",
    "    elif time_inv >= 45 and time_inv <=60:\n",
    "            return (\"45\")\n",
    "    else:\n",
    "            return(None)\n",
    "\n"
   ]
  },
  {
   "cell_type": "code",
   "execution_count": 15,
   "metadata": {},
   "outputs": [],
   "source": [
    "if 'min' in bid_requests.columns:\n",
    "    print(\"min already exists\")\n",
    "    pass\n",
    "else:\n",
    "    bid_requests[\"timestamp\"]=bid_requests[\"timestamp\"].apply(str)\n",
    "    min_intervals = bid_requests.apply(lambda row : get_time_interval(row['timestamp']), axis = 1)\n",
    "    bid_requests.insert(3, \"min\", min_intervals) # insert the new column after the 'hour' column\n",
    "    # save the updated dataset. do not run again!\n",
    "    bid_requests.to_csv('data/ipinyou/1458/train.log.txt', sep=\"\\t\", header=True, index=False)"
   ]
  },
  {
   "cell_type": "code",
   "execution_count": 1,
   "metadata": {},
   "outputs": [],
   "source": [
    "# Train DRLB\n",
    "\n",
    "import sys  \n",
    "sys.path.insert(0, 'src/rtb_agent')\n",
    "from rl_bid_agent import RlBidAgent\n",
    "import gym, gym_auction_emulator\n",
    "\n",
    "env = gym.make('AuctionEmulator-v0')\n",
    "env.seed(0)\n",
    "agent = RlBidAgent()\n",
    "\n",
    "obs, done = env.reset()\n",
    "train_budget = env.bid_requests.payprice.sum()/8\n",
    "\n",
    "budget_proportions = []\n",
    "for episode in env.bid_requests.weekday.unique():\n",
    "    budget_proportions.append(len(env.bid_requests[env.bid_requests.weekday == episode])/env.total_bids)\n",
    "for i in range(len(budget_proportions)):\n",
    "    budget_proportions[i] = round(train_budget * budget_proportions[i])\n",
    "agent.episode_budgets = budget_proportions\n",
    "agent._reset_episode()\n",
    "agent.cur_day = obs['weekday']\n",
    "agent.cur_hour = obs['hour']\n",
    "agent.cur_state = agent._get_state() # observe state s_0\n",
    "\n",
    "epochs = 400\n",
    "\n",
    "for epoch in range(epochs):\n",
    "    while not done:\n",
    "        bid = agent.act(obs) # obs = state\n",
    "        next_obs, cur_reward, cur_cost, win, done = env.step(bid)\n",
    "        agent._update_reward_cost(bid, cur_reward, cur_cost, win)\n",
    "        obs = next_obs\n",
    "    print(\"Total Impressions won {} value = {}\".format(agent.total_wins, agent.total_rewards))\n",
    "    if ((epoch + 1) % 20) == 0:\n",
    "        PATH = 'models/model_state_{}.tar'.format(epoch)\n",
    "        torch.save({'local_q_model': agent.dqn_agent.qnetwork_local.state_dict(),\n",
    "                    'target_q_model':agent.dqn_agent.qnetwork_target.state_dict(),\n",
    "                    'q_optimizer':agent.dqn_agent.optimizer.state_dict(),\n",
    "                    'rnet': agent.reward_net.reward_net.state_dict(),\n",
    "                    'rnet_optimizer': agent.reward_net.optimizer.state_dict()}, PATH)\n",
    "\n",
    "        f = open('models/rnet_memory_{}.txt'.format(epoch), \"wb\")\n",
    "        cloudpickle.dump(agent.dqn_agent.memory, f)\n",
    "        f.close()\n",
    "        f = open('models/rdqn_memory_{}.txt'.format(epoch), \"wb\")\n",
    "        cloudpickle.dump(agent.reward_net.memory, f)\n",
    "        f.close()\n",
    "\n",
    "        pd.DataFrame(agent.step_memory).to_csv('models/step_history_{}.csv'.format(epoch),header=None,index=False)\n",
    "        agent.step_memory=[]\n",
    "        pd.DataFrame(agent.episode_memory).to_csv('models/episode_history_{}.csv'.format(epoch),header=None,index=False)\n",
    "        agent.step_memory=[]\n",
    "\n",
    "env.close()"
   ]
  },
  {
   "cell_type": "code",
   "execution_count": null,
   "metadata": {},
   "outputs": [],
   "source": [
    "#random bidding\n",
    "class Random_Bidding():\n",
    "\n",
    "\n",
    "        def random_bidding(self,highest_bid):\n",
    "\n",
    "                #generate a random number generator (0,300)\n",
    "                #get a dataframe with columns('click', 'slotprice', 'payprice','r_bid_price','wins')\n",
    "                c_names=('click','day', 'slotprice', 'payprice','r_bid_price','wins')\n",
    "                zero_Data=np.zeros(shape=(self.total_bids,len(c_names)))\n",
    "                self.df=pd.DataFrame(zero_Data,columns=c_names)\n",
    "                self.df['day']=self.bid_requests['weekday']\n",
    "                self.df['click']=self.bid_requests['click']\n",
    "                self.df['slotprice'] = self.bid_requests['slotprice']\n",
    "                self.df['payprice'] = self.bid_requests['payprice']\n",
    "                self.df['r_bid_price']=np.random.randint(0,highest_bid,[self.total_bids,1])\n",
    "\n",
    "\n",
    "                self.rem_budget=self.budget\n",
    "                self.cur_day=str(int(self.df['day'][0]))\n",
    "                #print(range(len(self.df)))\n",
    "                for i in range(len(self.df)):\n",
    "                        if str(int(self.df.loc[i]['day'])) != self.cur_day:\n",
    "                                self.cur_day=str(int(self.df.loc[i]['day']))\n",
    "                                self.rem_budget=self.budget\n",
    "\n",
    "                        cost=self.df.loc[i]['r_bid_price']\n",
    "                        if self.rem_budget<cost:\n",
    "                                self.df.loc[i]['r_bid_price']=self.rem_budget\n",
    "                                cost = self.df.loc[i]['r_bid_price']\n",
    "\n",
    "                        if self.rem_budget<=0:\n",
    "                                  self.df.loc[i]['r_bid_price']=0\n",
    "                                  cost=0\n",
    "\n",
    "                        self.rem_budget-=(cost/1e9)\n",
    "\n",
    "\n",
    "\n",
    "                def wins_value(row):\n",
    "                        if row['r_bid_price'] >= row['slotprice'] and row['r_bid_price'] > row['payprice']:\n",
    "                                return 1\n",
    "                        return 0\n",
    "\n",
    "                self.df['wins'] = self.df.apply(wins_value, axis=1)"
   ]
  },
  {
   "cell_type": "code",
   "execution_count": null,
   "metadata": {},
   "outputs": [],
   "source": [
    "rb=Random_Bidding()\n",
    "rb.budget = 1000\n",
    "rb.bid_requests=bid_requests\n",
    "rb.total_bids=len(bid_requests)\n",
    "rb.random_bidding(highest_bid=100)\n",
    "\n",
    "click1=sum(rb.df['click'])\n",
    "wins1=rb.total_bids\n",
    "wins2=sum(rb.df['wins'])\n",
    "click2=sum(rb.df.loc[rb.df['wins']==1]['click'])\n",
    "\n",
    "\n",
    "print(\"Total actual random winning Impressions = {} clicks = {} \\n;\".format(wins1,click1),\n",
    "      \"Total random winning Impressions = {} clicks = {}\".format(wins2, click2))\n",
    "\n",
    "#rb.df.to_csv(os.getcwd() + '\\data\\rd_bid.txt', header=True,  sep=' ', mode='a')\n"
   ]
  },
  {
   "cell_type": "markdown",
   "metadata": {},
   "source": [
    "# 5. Results"
   ]
  },
  {
   "cell_type": "code",
   "execution_count": null,
   "metadata": {},
   "outputs": [],
   "source": []
  }
 ],
 "metadata": {
  "kernelspec": {
   "display_name": "Python 3",
   "language": "python",
   "name": "python3"
  },
  "language_info": {
   "codemirror_mode": {
    "name": "ipython",
    "version": 3
   },
   "file_extension": ".py",
   "mimetype": "text/x-python",
   "name": "python",
   "nbconvert_exporter": "python",
   "pygments_lexer": "ipython3",
   "version": "3.7.3"
  }
 },
 "nbformat": 4,
 "nbformat_minor": 4
}
